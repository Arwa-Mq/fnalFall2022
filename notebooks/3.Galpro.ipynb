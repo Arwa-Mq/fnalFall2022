{
 "cells": [
  {
   "cell_type": "markdown",
   "metadata": {},
   "source": [
    "# Galpro\n",
    "\n",
    "\n",
    "This notebooks is to debug my modifications on galpro. The final goal is assign the stellar masses based on the galpro 1d model and compare with BMA on the same dataset.\n",
    "\n",
    "<ul>\n",
    "    <li> Debug </li>\n",
    "    <li> Compare w/ BMA </li>\n",
    "</ul>"
   ]
  },
  {
   "cell_type": "markdown",
   "metadata": {},
   "source": [
    "###  Dataset\n",
    "\n",
    "We use the otuput from the algoritgm BMA Stellar Mass (Palmese et al. 2019)"
   ]
  },
  {
   "cell_type": "code",
   "execution_count": 1,
   "metadata": {},
   "outputs": [],
   "source": [
    "import numpy as np\n",
    "from astropy.table import Table, vstack\n",
    "from astropy.io.fits import getdata\n",
    "import scipy.stats as st\n",
    "\n",
    "import matplotlib.pyplot as plt\n",
    "import seaborn as sns; sns.set(color_codes=True)\n",
    "import os\n",
    "\n",
    "sns.set_style(\"whitegrid\")\n",
    "sns.set_context('talk',rc={\"lines.linewidth\": 2.5})\n",
    "\n",
    "# 'font.sans-serif': ['Arial',\n",
    "#   'DejaVu Sans',\n",
    "#   'Liberation Sans',\n",
    "#   'Bitstream Vera Sans',\n",
    "#   'sans-serif'],"
   ]
  },
  {
   "cell_type": "code",
   "execution_count": 2,
   "metadata": {
    "scrolled": true
   },
   "outputs": [],
   "source": [
    "fname = '/data/des61.a/data/johnny/COSMOS/BMA/small_sample.fits'\n",
    "\n",
    "check_sample = os.path.isfile(fname)"
   ]
  },
  {
   "cell_type": "code",
   "execution_count": 3,
   "metadata": {},
   "outputs": [],
   "source": [
    "if not check_sample:\n",
    "    root  = '/data/des61.a/data/johnny/COSMOS/BMA/'\n",
    "    infile= root+'bma_test_large.fits'\n",
    "    gal  = Table(getdata(infile))\n",
    "\n",
    "    ## load cosmos data\n",
    "    cosmos_infile = '/data/des61.a/data/johnny/COSMOS/COSMOS2015_Laigle+_v1.1.fits'\n",
    "    cosmos0  = Table(getdata(cosmos_infile))\n",
    "\n",
    "    ## load des deep field\n",
    "    des_deep_field_infile = '/data/des61.a/data/johnny/COSMOS/y3_deep_fields.fits'\n",
    "    des0 = Table(getdata(des_deep_field_infile))\n",
    "\n",
    "    ## make a cut\n",
    "    ## match files\n",
    "    cosmos = cosmos0[gal['rowCOSMOS']]\n",
    "    des    = des0[gal['row']]\n",
    "\n",
    "\n",
    "    des['row']       = gal['row']\n",
    "    des['rowCOSMOS'] = gal['rowCOSMOS']\n",
    "    des['z_true']    = cosmos['PHOTOZ']\n",
    "\n",
    "    gal['z_true']    = cosmos['PHOTOZ']\n",
    "    gal['masst']     = cosmos['MASS_BEST']\n",
    "    gal['Mr']        = cosmos['MR']\n",
    "    gal['Mi']        = cosmos['MI']\n",
    "\n",
    "    gal['g'] = des['MAG_G']\n",
    "    gal['r'] = des['MAG_R']\n",
    "    gal['i'] = des['MAG_I']\n",
    "    gal['z'] = des['MAG_Z']\n",
    "\n",
    "    zcls  = gal['z_true']\n",
    "    mass  = gal['mass']\n",
    "    mass_t= gal['masst']\n",
    "\n",
    "    i_abs  = gal['iabs']\n",
    "    i_abs_true  = gal['Mi']\n",
    "\n",
    "    mag_g = np.array(gal['g'])\n",
    "    mag_r = np.array(gal['r'])\n",
    "    mag_i = np.array(gal['i'])\n",
    "    mag_z = np.array(gal['z'])\n",
    "\n",
    "    chisqr = np.array(gal['best_chisq'])\n",
    "\n",
    "    mask = (mag_i<=23.5)&(zcls<9.99)&(zcls>0.)\n",
    "\n",
    "    variables = [zcls,mass,mass_t,i_abs,i_abs_true,mag_g,mag_r,mag_i,mag_z,chisqr]\n",
    "    data0 = Table(variables,names=['z','mass_bma','mass_true','i_abs_bma','i_abs_true','g_mag','r_mag','i_mag','z_mag','bma_chisqr'])\n",
    "\n",
    "    data = data0[mask]\n",
    "\n",
    "    data.write(fname,format='fits',overwrite=True)"
   ]
  },
  {
   "cell_type": "code",
   "execution_count": 6,
   "metadata": {},
   "outputs": [],
   "source": [
    "if check_sample:\n",
    "    data = Table(getdata(fname))"
   ]
  },
  {
   "cell_type": "code",
   "execution_count": null,
   "metadata": {},
   "outputs": [],
   "source": []
  },
  {
   "cell_type": "markdown",
   "metadata": {},
   "source": [
    "## Galpro: Debug"
   ]
  },
  {
   "cell_type": "code",
   "execution_count": 9,
   "metadata": {},
   "outputs": [],
   "source": [
    "import sys\n",
    "\n",
    "sys.path.append('/home/s1/jesteves/git/ccopa/python/galpro')\n",
    "import model\n",
    "from convert_mag_to_lupmag import get_input_galpro"
   ]
  },
  {
   "cell_type": "code",
   "execution_count": 10,
   "metadata": {},
   "outputs": [],
   "source": [
    "mags = np.c_[[data['%s_mag'%bp_filter] for bp_filter in ['g','r','i','z']]].T\n",
    "ztrue= data['z']\n",
    "\n",
    "x_target = get_input_galpro(mags,ztrue)"
   ]
  },
  {
   "cell_type": "code",
   "execution_count": 11,
   "metadata": {},
   "outputs": [
    {
     "data": {
      "text/plain": [
       "(43441, 15)"
      ]
     },
     "execution_count": 11,
     "metadata": {},
     "output_type": "execute_result"
    }
   ],
   "source": [
    "x_target.shape"
   ]
  },
  {
   "cell_type": "code",
   "execution_count": 12,
   "metadata": {},
   "outputs": [],
   "source": [
    "y_target = np.zeros(x_target[:,0].size,dtype=float)[:,np.newaxis]"
   ]
  },
  {
   "cell_type": "code",
   "execution_count": 13,
   "metadata": {},
   "outputs": [
    {
     "data": {
      "text/plain": [
       "(43441, 1)"
      ]
     },
     "execution_count": 13,
     "metadata": {},
     "output_type": "execute_result"
    }
   ],
   "source": [
    "y_target.shape"
   ]
  },
  {
   "cell_type": "code",
   "execution_count": 14,
   "metadata": {},
   "outputs": [],
   "source": [
    "x_train = np.load('/data/des61.a/data/johnny/DESY3/galpro_files/DES_WF/data/x_train.npy')\n",
    "y_train = np.load('/data/des61.a/data/johnny/DESY3/galpro_files/DES_WF/data/y_train.npy')\n",
    "\n",
    "x_test = np.load('/data/des61.a/data/johnny/DESY3/galpro_files/DES_WF/data/x_test.npy')\n",
    "y_test = np.load('/data/des61.a/data/johnny/DESY3/galpro_files/DES_WF/data/y_test.npy')"
   ]
  },
  {
   "cell_type": "code",
   "execution_count": 15,
   "metadata": {},
   "outputs": [],
   "source": [
    "def transform_to_1d(x,y):\n",
    "    ynew = y[:,1]\n",
    "    xnew = np.vstack([x.T,y[:,0]]).T\n",
    "    return xnew, ynew[:,np.newaxis]"
   ]
  },
  {
   "cell_type": "code",
   "execution_count": null,
   "metadata": {},
   "outputs": [],
   "source": []
  },
  {
   "cell_type": "code",
   "execution_count": 16,
   "metadata": {},
   "outputs": [],
   "source": [
    "x_test1d, y_test1d = transform_to_1d(x_test,y_test)\n",
    "x_train1d, y_train1d = transform_to_1d(x_train,y_train)"
   ]
  },
  {
   "cell_type": "code",
   "execution_count": 19,
   "metadata": {},
   "outputs": [
    {
     "name": "stdout",
     "output_type": "stream",
     "text": [
      "('path:', '/data/des61.a/data/johnny/DESY3/galpro_files/DES_WF/model_1d_des/')\n",
      "Training model...\n"
     ]
    },
    {
     "name": "stderr",
     "output_type": "stream",
     "text": [
      "/home/s1/jesteves/git/ccopa/python/galpro/model.py:106: DataConversionWarning: A column-vector y was passed when a 1d array was expected. Please change the shape of y to (n_samples,), for example using ravel().\n",
      "  self.model.fit(self.x_train, self.y_train)\n"
     ]
    },
    {
     "name": "stdout",
     "output_type": "stream",
     "text": [
      "Saved model.\n",
      "Generating point estimates...\n"
     ]
    }
   ],
   "source": [
    "gp_root = '/data/des61.a/data/johnny/DESY3/galpro_files/DES_WF/'\n",
    "gpmodel = model.Model('model_1d_des', x_train1d, y_train1d, x_target, root=gp_root, save_model=True)\n",
    "point_estimates = gpmodel.point_estimate(save_estimates=False, make_plots=False)"
   ]
  },
  {
   "cell_type": "code",
   "execution_count": null,
   "metadata": {},
   "outputs": [],
   "source": []
  },
  {
   "cell_type": "code",
   "execution_count": 20,
   "metadata": {},
   "outputs": [],
   "source": [
    "data['mass_ml'] = point_estimates\n",
    "data.write(fname,format='fits',overwrite=True)"
   ]
  },
  {
   "cell_type": "code",
   "execution_count": null,
   "metadata": {},
   "outputs": [],
   "source": []
  },
  {
   "cell_type": "markdown",
   "metadata": {},
   "source": [
    "## Validation"
   ]
  },
  {
   "cell_type": "code",
   "execution_count": 21,
   "metadata": {},
   "outputs": [],
   "source": [
    "res0 = data['mass_bma'] - data['mass_true']\n",
    "res1 = data['mass_ml'] - data['mass_true']"
   ]
  },
  {
   "cell_type": "code",
   "execution_count": null,
   "metadata": {},
   "outputs": [],
   "source": []
  },
  {
   "cell_type": "code",
   "execution_count": 22,
   "metadata": {},
   "outputs": [],
   "source": [
    "def get_nmad(x):\n",
    "    mad = np.nanmedian(x)\n",
    "    nmad = 1.48*np.nanmedian(np.abs(x-mad))\n",
    "    return nmad, mad"
   ]
  },
  {
   "cell_type": "code",
   "execution_count": 23,
   "metadata": {},
   "outputs": [],
   "source": [
    "mask = (data['mass_true']>10.)&(data['z']<0.7)\n",
    "\n",
    "snmad0,mean0 = get_nmad(res0)\n",
    "snmad01,mean01 = get_nmad(res0[mask])\n",
    "\n",
    "snmad1,mean1 = get_nmad(res1)\n",
    "snmad11,mean11 = get_nmad(res1[mask])\n"
   ]
  },
  {
   "cell_type": "code",
   "execution_count": 24,
   "metadata": {},
   "outputs": [
    {
     "name": "stdout",
     "output_type": "stream",
     "text": [
      "BMA\n",
      "median, sigma: 0.084, 0.591\n",
      "median, sigma: 0.002, 0.088\n",
      "\n",
      "\n",
      "z<0.7 and mass>10E10\n",
      "median, sigma: -0.226, 0.307\n",
      "median, sigma: -0.013, 0.052\n",
      "\n",
      "\n"
     ]
    }
   ],
   "source": [
    "print('BMA')\n",
    "print('median, sigma: %.3f, %.3f'%(mean0,snmad0))\n",
    "print('median, sigma: %.3f, %.3f'%(mean1,snmad1))\n",
    "\n",
    "print('\\n')\n",
    "print('z<0.7 and mass>10E10')\n",
    "print('median, sigma: %.3f, %.3f'%(mean01,snmad01))\n",
    "print('median, sigma: %.3f, %.3f'%(mean11,snmad11))\n",
    "print('\\n')\n",
    "# print('sigma: %.2f'%snmad)"
   ]
  },
  {
   "cell_type": "code",
   "execution_count": 25,
   "metadata": {},
   "outputs": [],
   "source": [
    "def plot_scatter(x,y,ax=None,s=20,alpha=0.5,title='',xlims=(6.,12.)):\n",
    "    if ax is None: ax = plt.axes()\n",
    "    ax.plot(xlims,xlims,'k--',lw=2)\n",
    "    ax.scatter(x,y,s=s,alpha=alpha)\n",
    "    ax.set_title(title)\n",
    "    "
   ]
  },
  {
   "cell_type": "code",
   "execution_count": 26,
   "metadata": {},
   "outputs": [
    {
     "data": {
      "image/png": "[encoded data removed]",
      "text/plain": [
       "<Figure size 864x360 with 2 Axes>"
      ]
     },
     "metadata": {
      "needs_background": "light"
     },
     "output_type": "display_data"
    }
   ],
   "source": [
    "fig, axis = plt.subplots(1, 2, figsize=(12,5), sharex='all',sharey='all')\n",
    "plot_scatter(data['mass_true'],data['mass_bma'],ax=axis[0],s=20,alpha=0.5,title='BMA',xlims=(6.,12.))\n",
    "plot_scatter(data['mass_true'],data['mass_ml'],ax=axis[1],s=20,alpha=0.5,title='Galpro',xlims=(6.,12.))"
   ]
  },
  {
   "cell_type": "code",
   "execution_count": null,
   "metadata": {},
   "outputs": [],
   "source": []
  },
  {
   "cell_type": "code",
   "execution_count": null,
   "metadata": {},
   "outputs": [],
   "source": []
  },
  {
   "cell_type": "code",
   "execution_count": null,
   "metadata": {},
   "outputs": [],
   "source": []
  }
 ],
 "metadata": {
  "kernelspec": {
   "display_name": "Python 2",
   "language": "python",
   "name": "python2"
  },
  "language_info": {
   "codemirror_mode": {
    "name": "ipython",
    "version": 2
   },
   "file_extension": ".py",
   "mimetype": "text/x-python",
   "name": "python",
   "nbconvert_exporter": "python",
   "pygments_lexer": "ipython2",
   "version": "2.7.16"
  }
 },
 "nbformat": 4,
 "nbformat_minor": 2
}
