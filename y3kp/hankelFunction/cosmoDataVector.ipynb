{
 "cells": [
  {
   "cell_type": "markdown",
   "id": "6630807a-69e5-4b01-bc5e-73afc097d9f8",
   "metadata": {},
   "source": [
    "# Cluster Cosmology: Data Vector\n",
    "\n",
    "Here I first implement the computation of two important quantities for the data vector:\n",
    "- $\\left< \\gamma_t (\\theta) \\right>$ : The `gamma_t` profile\n",
    "- $\\xi_{cc}(s) $: Cluster auto correlation function\n",
    "\n"
   ]
  },
  {
   "cell_type": "code",
   "execution_count": 1,
   "id": "fb240537-be4c-47bc-a486-e97b27c8a7d1",
   "metadata": {},
   "outputs": [
    {
     "name": "stdout",
     "output_type": "stream",
     "text": [
      "Using hankel v1.1.0\n"
     ]
    }
   ],
   "source": [
    "import hankl\n",
    "print(\"Using hankel v{}\".format(hankl.__version__))"
   ]
  },
  {
   "cell_type": "code",
   "execution_count": null,
   "id": "c4052d62-5c5d-450d-afaa-6dcfb3c5156e",
   "metadata": {},
   "outputs": [],
   "source": [
    "from astropy.cosmology import FlatLambdaCDM\n",
    "cosmo = FlatLambdaCDM(H0=70, Om0=0.3, Ob0=0.05)\n",
    "\n",
    "omega_m  = cosmo.Om0\n",
    "h=cosmo.H0.value/100.\n",
    "const = 1.67e-7 * (omega_m * h**2) # /Mpc^2\n",
    "rhom = const/6.01e-19  # Msun/Mpc^2"
   ]
  },
  {
   "cell_type": "code",
   "execution_count": null,
   "id": "346ca43f-02c9-4e9e-b77a-65022f1374a4",
   "metadata": {},
   "outputs": [],
   "source": []
  },
  {
   "cell_type": "markdown",
   "id": "e84debb4-c416-497a-a86e-275483c42eae",
   "metadata": {},
   "source": [
    "## Matter Power Spectrum: CAMB\n",
    "\n",
    "We use CAMB to have a power spectrum as an example."
   ]
  },
  {
   "cell_type": "code",
   "execution_count": null,
   "id": "d4b6c679-1fbd-46d8-acf0-a665339e3c65",
   "metadata": {},
   "outputs": [],
   "source": [
    "%matplotlib inline\n",
    "%config InlineBackend.figure_format = 'retina'\n",
    "import sys, platform, os\n",
    "import matplotlib\n",
    "from matplotlib import pyplot as plt\n",
    "import numpy as np\n",
    "from time import time\n",
    "\n",
    "#Assume installed from github using \"git clone --recursive https://github.com/cmbant/CAMB.git\"\n",
    "#This file is then in the docs folders\n",
    "camb_path = os.path.realpath(os.path.join(os.getcwd(),'..'))\n",
    "sys.path.insert(0,camb_path)\n",
    "import camb\n",
    "from camb import model, initialpower\n",
    "print('Using CAMB %s installed at %s'%(camb.__version__,os.path.dirname(camb.__file__)))"
   ]
  },
  {
   "cell_type": "markdown",
   "id": "4a8edbb4-036b-483a-812d-33f2ee09816e",
   "metadata": {},
   "source": [
    "### Get Matter power spectra for a given cosmology\n",
    "Taken from notebook example: https://camb.readthedocs.io/en/latest/CAMBdemo.html"
   ]
  },
  {
   "cell_type": "code",
   "execution_count": null,
   "id": "1469c33d-61bf-49fe-bfd1-ab778fd02093",
   "metadata": {},
   "outputs": [],
   "source": [
    "zvec = np.linspace(0.2, 0.6, 10)"
   ]
  },
  {
   "cell_type": "code",
   "execution_count": null,
   "id": "251e972a-c33f-4843-99a0-d6f9a6006bf4",
   "metadata": {},
   "outputs": [],
   "source": [
    "#Now get matter power spectra and sigma8 at redshift 0 and 0.8\n",
    "pars = camb.CAMBparams()\n",
    "pars.set_cosmology(H0=67.5, ombh2=0.022, omch2=0.122)\n",
    "pars.InitPower.set_params(ns=0.965)\n",
    "#Note non-linear corrections couples to smaller scales than you want\n",
    "pars.set_matter_power(redshifts=list(zvec), kmax=2.0)\n",
    "\n",
    "#Linear spectra\n",
    "pars.NonLinear = model.NonLinear_none\n",
    "results = camb.get_results(pars)\n",
    "kh_lin, z_lin, pk_lin = results.get_matter_power_spectrum(minkh=3e-5, maxkh=1000, npoints = 1000)\n",
    "s8 = np.array(results.get_sigma8())\n",
    "\n",
    "#Non-Linear spectra (Halofit)\n",
    "pars.NonLinear = model.NonLinear_both\n",
    "results.calc_power_spectra(pars)\n",
    "kh_nonlin, z_nonlin, pk_nonlin = results.get_matter_power_spectrum(minkh=3e-5, maxkh=1000, npoints = 1000)"
   ]
  },
  {
   "cell_type": "code",
   "execution_count": null,
   "id": "94619920-aaf8-400d-9407-3be385a05f9e",
   "metadata": {},
   "outputs": [],
   "source": []
  },
  {
   "cell_type": "code",
   "execution_count": null,
   "id": "a06c514c-04ef-4998-997c-ff6c9310a6c2",
   "metadata": {},
   "outputs": [],
   "source": [
    "print(results.get_sigma8())"
   ]
  },
  {
   "cell_type": "code",
   "execution_count": null,
   "id": "f448e978-c228-4740-97ba-4e619284d824",
   "metadata": {},
   "outputs": [],
   "source": [
    "for i, (redshift, line) in enumerate(zip(z_lin,['-','--'])):\n",
    "    plt.loglog(kh_lin, pk_lin[i,:], color='k', ls = line)\n",
    "    plt.loglog(kh_nonlin, pk_nonlin[i,:], color='r', ls = line)\n",
    "plt.xlabel('k/h Mpc');\n",
    "plt.ylabel(r'$P_{mm}(k)$')\n",
    "plt.legend(['linear','non-linear'], loc='lower left');\n",
    "# plt.title('Matter power at z=%s and z= %s'%tuple(z_lin));"
   ]
  },
  {
   "cell_type": "markdown",
   "id": "3cb6d269-2d65-46f7-b4ef-c00fb676cbb3",
   "metadata": {},
   "source": [
    "# Cluster Tool Kit\n"
   ]
  },
  {
   "cell_type": "code",
   "execution_count": null,
   "id": "23ea4620-cb53-4d9a-9f8b-e39e758b12c4",
   "metadata": {},
   "outputs": [],
   "source": [
    "import cluster_toolkit as ct\n",
    "\n",
    "omega_m = 0.3\n",
    "Radii_bins = 100\n",
    "R_perp_bins = 200\n",
    "nz = 10\n",
    "eTimes = dict()\n",
    "\n",
    "r = np.logspace(-3., 2.5, Radii_bins)"
   ]
  },
  {
   "cell_type": "code",
   "execution_count": null,
   "id": "0684c6ec-564f-436e-8878-5b923b203472",
   "metadata": {},
   "outputs": [],
   "source": [
    "t0 = time()\n",
    "Xi_2 = np.zeros((nz, Radii_bins))\n",
    "for i in range(nz):\n",
    "    s, xi2 = hankl.P2xi(kh_nonlin, pk_nonlin[i], l=0)\n",
    "    Xi_2[i] = np.interp(r,s,xi2)\n",
    "    \n",
    "eTimes['Hankl'] = (time()-t0)*1000\n",
    "print('It takes %.3f msec'%(eTimes['Hankl']))\n"
   ]
  },
  {
   "cell_type": "code",
   "execution_count": null,
   "id": "2059a9b8-b226-4535-aa94-db43774619aa",
   "metadata": {},
   "outputs": [],
   "source": [
    "t0 = time()\n",
    "dummy_concentration = 5.\n",
    "Xi_2ct = np.zeros((nz, Radii_bins))\n",
    "Sigma_2ct = np.zeros((nz, R_perp_bins))\n",
    "for i in range(nz):\n",
    "    xi_mm = ct.xi.xi_mm_at_r(r, kh_nonlin, pk_nonlin[i])\n",
    "    Xi_2ct[i] = xi_mm\n",
    "\n",
    "eTimes['ClusterToolKit'] = (time()-t0)*1000\n",
    "print('It takes %.3f msec'%(eTimes['ClusterToolKit']))\n"
   ]
  },
  {
   "cell_type": "code",
   "execution_count": null,
   "id": "ae0304ac-6056-4957-b3d5-adf36e38a18c",
   "metadata": {},
   "outputs": [],
   "source": [
    "plt.figure(figsize=(8,5))\n",
    "# plt.loglog()\n",
    "plt.xscale('log')\n",
    "plt.plot(r, r*r*Xi_2[0], label=r'Hankl - elapsed time: %.2f ms'%eTimes['Hankl'])\n",
    "plt.plot(r, r*r*Xi_2ct[0], label=r'Cluster Tool Kit - elapsed time: %.2f ms'%eTimes['ClusterToolKit'])\n",
    "plt.xlabel(r'$s\\: (Mpc/h)$')\n",
    "plt.ylabel(r'$s^{2} \\xi_{l}$')\n",
    "plt.legend()\n",
    "plt.title('Hankel Transformation - Pk Non Linear')\n",
    "plt.show()"
   ]
  },
  {
   "cell_type": "code",
   "execution_count": null,
   "id": "eac343b7-e3b4-4de6-b086-673ed3136722",
   "metadata": {},
   "outputs": [],
   "source": [
    "import astropy.units as u"
   ]
  },
  {
   "cell_type": "code",
   "execution_count": null,
   "id": "6f9e9680-44d6-4f3d-81cd-76c3c46da774",
   "metadata": {},
   "outputs": [],
   "source": [
    "from astropy.cosmology import FlatLambdaCDM\n",
    "cosmo = FlatLambdaCDM(H0=70, Om0=0.3, Ob0=0.05)\n",
    "omega_m  = cosmo.Om0\n",
    "h=cosmo.H0.value/100.\n",
    "\n",
    "const = 6.01e-19 # 4piG/c^2 [Mpc/Msun]\n",
    "rhoc0 = cosmo.critical_density0.to(u.Msun/u.Mpc**3).value\n",
    "rhom0 = rhoc0*omega_m\n",
    "\n",
    "print('Rhoc: %.3e Msun/Mpc^3'%rhoc0)"
   ]
  },
  {
   "cell_type": "code",
   "execution_count": null,
   "id": "e7139f08-34a8-4f07-a68b-b051aa853e0d",
   "metadata": {},
   "outputs": [],
   "source": [
    "def compute_beta(zl, zs, cosmo):\n",
    "    dl, ds = cosmo.angular_diameter_distance(np.array([zl, zs])).value\n",
    "    dls = cosmo.angular_diameter_distance_z1z2(zl, zs).value\n",
    "    return dl, dls/ds\n",
    "\n",
    "def compute_sigma_crit_inv(z_lens, z_source, comso=cosmo):\n",
    "    # beta is dA_lens_source/dA_source\n",
    "    dA_lens, beta = compute_beta(z_lens, z_source, cosmo)\n",
    "    \n",
    "    # final normalization factor\n",
    "    sigma_crit_inv = const*(1+z_lens)*dA_lens*beta\n",
    "    return sigma_crit_inv\n",
    "\n",
    "def delta_sigma(k, P, l=2):\n",
    "     # compute hankel transformation of the matter power spectrum\n",
    "    r, f = hankl.FFTLog(k, P * k ** 0.5, q=0, mu=l + 0.5)\n",
    "    _ds = f * (2.0 * np.pi) ** (-0.5) * r ** (-1.5)\n",
    "    return r, _ds*rhom0\n",
    "\n",
    "def avg_gamma_t(k, P, l=2, z_lens=0., z_source_eff=1., cosmo=cosmo):\n",
    "    \"\"\" Compute the average gamma_t\n",
    "    \n",
    "    Formula 12 from Jeong, Komatsu and Jain 2009\n",
    "    \"\"\"    \n",
    "    # compute delta sigma\n",
    "    dS = deltaSigma(k, P, l=2)\n",
    "    \n",
    "    # compute sigma_crit\n",
    "    sigma_crit_inv = compute_sigma_crit_inv(z_lens, z_source_eff, cosmo)\n",
    "    \n",
    "    return r, dS*sigma_crit_inv"
   ]
  },
  {
   "cell_type": "code",
   "execution_count": null,
   "id": "d55bb040-a1d1-4d84-a98c-1abaca9f7e65",
   "metadata": {},
   "outputs": [],
   "source": [
    "from scipy import signal\n",
    "mass = 1e14\n",
    "t0 = time()\n",
    "dSigma_2 = np.zeros((nz, Radii_bins))\n",
    "dSigma_2b = np.zeros((nz, Radii_bins))\n",
    "for i in range(nz):\n",
    "    xi_nfw = ct.xi.xi_nfw_at_r(r, mass, dummy_concentration, omega_m)\n",
    "    k_nfw, pk_nfw = hankl.xi2P(r, xi_nfw, l=0, ext=0, range=[1., 1000], return_ext=True)\n",
    "    #b, a = signal.butter(3, 0.5)\n",
    "    #filtered = signal.filtfilt(b, a, pk_nfw)\n",
    "\n",
    "    pk_1h = np.interp(kh_nonlin, k_nfw, pk_nfw, left=0)\n",
    "    pk_total = pk_nonlin[i]+pk_1h\n",
    "    pk_total = np.where(pk_1h<pk_nonlin[i], pk_nonlin[i], pk_total)\n",
    "    pk_total = np.where(kh_nonlin<1/10., pk_nonlin[i], pk_total)\n",
    "    s, DeltaSigma = delta_sigma(kh_nonlin, pk_total, l=2)\n",
    "    dSigma_2[i] = np.interp(r, s, DeltaSigma)\n",
    "    \n",
    "    #s, DeltaSigma = delta_sigma(k_nfw, np.interp(k_nfw, kh_nonlin, pk_nonlin[i]), l=2)\n",
    "    #Sigma = ct.deltasigma.Sigma_nfw_at_R(r, mass, dummy_concentration, omega_m)\n",
    "    #DeltaSigma_nfw = ct.deltasigma.DeltaSigma_at_R(r, r, Sigma, mass, dummy_concentration, omega_m)\n",
    "    #dSigma_2b[i] = DeltaSigma_nfw*1e12 + np.interp(r, s, DeltaSigma)\n",
    "    \n",
    "\n",
    "eTimes['Hankl'] = (time()-t0)*1000\n",
    "print('It takes %.3f msec'%(eTimes['Hankl']))\n"
   ]
  },
  {
   "cell_type": "code",
   "execution_count": null,
   "id": "20c2b9bb-f79e-4c89-87bd-8d797583542c",
   "metadata": {},
   "outputs": [],
   "source": [
    "plt.loglog()\n",
    "plt.plot(kh_nonlin, pk_nonlin[-1])\n",
    "plt.plot(kh_nonlin, np.interp(kh_nonlin, k_nfw, pk_nfw))\n",
    "plt.plot(kh_nonlin, pk_total)\n",
    "plt.xlim(1e-2, 1e2)"
   ]
  },
  {
   "cell_type": "code",
   "execution_count": null,
   "id": "619dd3b2-f774-4734-8ff1-4a09adc2de27",
   "metadata": {},
   "outputs": [],
   "source": [
    "t0 = time()\n",
    "dummy_concentration = 5.\n",
    "mass = 1e14 #Msun/h\n",
    "dSigma_2ct = np.zeros((nz, Radii_bins))\n",
    "for i in range(nz):\n",
    "    Sigma_nfw = ct.deltasigma.Sigma_nfw_at_R(r, mass, dummy_concentration, omega_m)\n",
    "    Sigma_2h  = ct.deltasigma.Sigma_at_R(r, r, Xi_2ct[i], mass, dummy_concentration, omega_m)\n",
    "    Sigma = Sigma_nfw + Sigma_2h\n",
    "    Sigma[np.isnan(Sigma)] = 0.\n",
    "    DeltaSigma = ct.deltasigma.DeltaSigma_at_R(r, r, Sigma, mass, dummy_concentration, omega_m)\n",
    "    dSigma_2ct[i] = DeltaSigma*1e12\n",
    "eTimes['ClusterToolKit'] = (time()-t0)*1000\n",
    "print('It takes %.3f msec'%(eTimes['ClusterToolKit']))\n"
   ]
  },
  {
   "cell_type": "code",
   "execution_count": null,
   "id": "b5fd6cc5-fcd4-4fad-8dcf-d2df962c6fab",
   "metadata": {},
   "outputs": [],
   "source": [
    "plt.figure(figsize=(8,5))\n",
    "plt.loglog()\n",
    "# plt.xscale('log')\n",
    "plt.plot(r, dSigma_2[0], label=r'Hankl - elapsed time: %.2f ms'%eTimes['Hankl'])\n",
    "plt.plot(r, dSigma_2ct[-1], label=r'Cluster Tool Kit - elapsed time: %.2f ms'%eTimes['ClusterToolKit'])\n",
    "plt.xlabel(r'$R\\: (Mpc/h)$',fontsize=16)\n",
    "plt.ylabel(r'$\\Delta \\Sigma \\; [M_{\\odot}/Mpc^2]$ ',fontsize=16)\n",
    "plt.xlim(0.1, 50.)\n",
    "plt.ylim(2e11,5e14)\n",
    "plt.legend()\n",
    "plt.title('Hankel Transformation - Pk Non Linear')\n",
    "plt.show()"
   ]
  },
  {
   "cell_type": "code",
   "execution_count": null,
   "id": "d335b3db-79dd-4536-8754-c8da5e1cacee",
   "metadata": {},
   "outputs": [],
   "source": []
  },
  {
   "cell_type": "code",
   "execution_count": null,
   "id": "16ee203b-dd64-49d5-b908-33f40934f451",
   "metadata": {},
   "outputs": [],
   "source": [
    "sigam_crit_inv = compute_sigma_crit_inv(zvec[0], zvec[0]+0.5, comso=cosmo)"
   ]
  },
  {
   "cell_type": "code",
   "execution_count": null,
   "id": "fde874e0-5d15-40fc-b56d-390e21074634",
   "metadata": {},
   "outputs": [],
   "source": [
    "plt.figure(figsize=(8,5))\n",
    "plt.loglog()\n",
    "# plt.xscale('log')\n",
    "plt.plot(r, dSigma_2[0]*sigam_crit_inv, label=r'Hankl - elapsed time: %.2f ms'%eTimes['Hankl'])\n",
    "plt.plot(r, dSigma_2ct[-1]*sigam_crit_inv, label=r'Cluster Tool Kit - elapsed time: %.2f ms'%eTimes['ClusterToolKit'])\n",
    "plt.xlabel(r'$R\\: (Mpc/h)$',fontsize=16)\n",
    "plt.ylabel(r' $\\left< \\gamma_t (s)\\right>$', fontsize=16)\n",
    "plt.xlim(0.07, 50.)\n",
    "plt.ylim(1e-5,1e-1)\n",
    "plt.legend()\n",
    "plt.title('Hankel Transformation - Pk Non Linear')\n",
    "plt.show()"
   ]
  },
  {
   "cell_type": "code",
   "execution_count": null,
   "id": "b781dd05-6368-4667-8479-a44651f8764c",
   "metadata": {},
   "outputs": [],
   "source": []
  },
  {
   "cell_type": "code",
   "execution_count": null,
   "id": "97934c86-d864-4dd5-9ead-236c01b4d7c8",
   "metadata": {},
   "outputs": [],
   "source": [
    "import pyccl as ccl\n",
    "\n",
    "cosmo_ccl1 = ccl.Cosmology(Omega_c=0.25, Omega_b=0.05, h=0.7,sigma8=0.82, n_s=0.96, Neff=0,\n",
    "                            transfer_function='eisenstein_hu',\n",
    "                            matter_power_spectrum='halofit',\n",
    "                            mass_function='shethtormen')\n"
   ]
  },
  {
   "cell_type": "code",
   "execution_count": null,
   "id": "49426309-47a6-4c7d-bd16-5ab1d0db71bc",
   "metadata": {},
   "outputs": [],
   "source": []
  },
  {
   "cell_type": "code",
   "execution_count": null,
   "id": "c4673f85-f631-4435-a5da-38ba2e83fcde",
   "metadata": {},
   "outputs": [],
   "source": [
    "ccl.twohalo_matter_power(cosmo_ccl1, kh_lin, 1)"
   ]
  },
  {
   "cell_type": "code",
   "execution_count": null,
   "id": "16013f97-c880-40aa-adda-e40253e2973f",
   "metadata": {},
   "outputs": [],
   "source": [
    "# help(ccl)"
   ]
  },
  {
   "cell_type": "code",
   "execution_count": null,
   "id": "20812841-2f61-4aef-b2ce-af99f402e153",
   "metadata": {},
   "outputs": [],
   "source": [
    "help(ccl.halomodel)"
   ]
  },
  {
   "cell_type": "markdown",
   "id": "4c546eab-09ac-4078-a874-65e12596ef6a",
   "metadata": {},
   "source": [
    "# Hankel Transformations\n",
    "\n",
    "The hankel transformations are important for several reasons. \n",
    "- First, the first order hankel transformation of the $P_{mm}(k)$ is $\\xi_{mm} (R)$ matter correlation functions in real space. After some test perfomed by Chiara, she showed that is  the most accurate computation of $\\xi_{mm}$. \n",
    "- Second, applying a second order hankel transformation we can estimate $\\gamma_t (\\theta)$ directly. See Equation 12, https://arxiv.org/pdf/0910.1361.pdf"
   ]
  },
  {
   "cell_type": "code",
   "execution_count": null,
   "id": "e30cf889-14a0-43d4-97df-604b3b61b01b",
   "metadata": {},
   "outputs": [],
   "source": [
    "eTimes = dict()"
   ]
  },
  {
   "cell_type": "code",
   "execution_count": null,
   "id": "8b085120-90ca-4ac7-9751-715d0ed4b60f",
   "metadata": {},
   "outputs": [],
   "source": [
    "# at redshift 0.3\n",
    "pk = pk_nonlin[1]\n",
    "k = kh_nonlin"
   ]
  },
  {
   "cell_type": "markdown",
   "id": "65d4397e-cdbe-4f6e-a1ad-4f79581bd5df",
   "metadata": {},
   "source": [
    "Now, this was the linear Matter Power Spectrum, to get the Galaxy Power Spectrum multipoles we will use Kaiser’s formula:\n",
    "$$\n",
    "P(k, \\mu) = (b+f\\mu^2) ^ 2 P_lin(k)\n",
    "$$"
   ]
  },
  {
   "cell_type": "code",
   "execution_count": null,
   "id": "bf48bbbf-2151-4d57-9e77-c494c9dd3ac8",
   "metadata": {},
   "outputs": [],
   "source": [
    "def get_multipoles(pk, b, f):\n",
    "\n",
    "    p0 = (b*b + 2.0 * b *f / 3.0 + f*f/5.0 ) * pk\n",
    "\n",
    "    p2 = (4.0*b*f/3.0 + 4.0*f*f/7.0) * pk\n",
    "\n",
    "    p4 = (8.0* f*f / 35.0) * pk\n",
    "\n",
    "    return p0, p2, p4"
   ]
  },
  {
   "cell_type": "code",
   "execution_count": null,
   "id": "d32eb179-fd2b-4023-9b70-beafd131ca4d",
   "metadata": {},
   "outputs": [],
   "source": [
    "P0, P2, P4 = get_multipoles(pk, b=2.0, f=0.5)\n"
   ]
  },
  {
   "cell_type": "code",
   "execution_count": null,
   "id": "8017a299-2836-4dbd-9650-0db2111aae86",
   "metadata": {},
   "outputs": [],
   "source": [
    "plt.semilogx(k, k * P0, label=r'$P_{0}$')\n",
    "plt.semilogx(k, k * P2, label=r'$P_{2}$')\n",
    "plt.semilogx(k, k * P4, label=r'$P_{4}$')\n",
    "plt.xlabel(r'$k \\: [h\\: Mpc^{-1}]$')\n",
    "plt.ylabel(r'$k\\; P_{l}(k) \\: [h^{-1}\\: Mpc]^{2}$')\n",
    "plt.xlim(1e-3, 10)\n",
    "plt.legend()\n",
    "plt.show()"
   ]
  },
  {
   "cell_type": "code",
   "execution_count": null,
   "id": "a1211bb3-9d75-4b01-b4aa-42225d94aff3",
   "metadata": {},
   "outputs": [],
   "source": [
    "# Using Hankl - a code created to cosmology computations\n",
    "#  https://hankl.readthedocs.io/en/latest/examples.html\n",
    "\n",
    "t0 = time()\n",
    "s, xi0 = hankl.P2xi(k, pk, l=0)\n",
    "\n",
    "eTimes['Hankl'] = [(time()-t0)*1000]\n",
    "print('It takes %.3f msec'%(eTimes['Hankl'][0]))"
   ]
  },
  {
   "cell_type": "code",
   "execution_count": null,
   "id": "89f24d5c-60b0-4e6b-b983-c0da242f6eda",
   "metadata": {},
   "outputs": [],
   "source": [
    "# Using Hankl - a code created to cosmology computations\n",
    "#  https://hankl.readthedocs.io/en/latest/examples.html\n",
    "\n",
    "t0 = time()\n",
    "s, xi2 = hankl.P2xi(k, pk, l=2)\n",
    "\n",
    "eTimes['Hankl'] += [(time()-t0)*1000]\n",
    "print('It takes %.3f msec'%(eTimes['Hankl'][0]))"
   ]
  },
  {
   "cell_type": "code",
   "execution_count": null,
   "id": "4ff42ec9-db7c-462a-91b6-741cad13594a",
   "metadata": {},
   "outputs": [],
   "source": [
    "# plt.loglog()\n",
    "plt.xscale('log')\n",
    "plt.plot(s, s*s*xi0, label=r'$s^{2}\\xi_{0}$ - eps time: %.2f ms'%eTimes['Hankl'][0])\n",
    "plt.plot(s, s*s*xi2, label=r'$s^{2}\\xi_{2}$ - eps time: %.2f ms'%eTimes['Hankl'][1])\n",
    "plt.xlim(3,180)\n",
    "plt.ylim(-60,30)\n",
    "plt.xlabel(r'$s\\: (Mpc/h)$')\n",
    "plt.ylabel(r'$s^{2} \\xi_{l}$')\n",
    "plt.legend()\n",
    "plt.title('Hankel Transformation - Non Linear - 500 points')\n",
    "plt.show()"
   ]
  },
  {
   "cell_type": "markdown",
   "id": "5e641be0-5699-4335-94fd-35b241766909",
   "metadata": {},
   "source": [
    "## Averaged $\\gamma_t$"
   ]
  },
  {
   "cell_type": "markdown",
   "id": "3a213d23-5f80-4e24-b831-093424e6a6a6",
   "metadata": {},
   "source": [
    "According to Jeong, Komatsu and Jain 2009 the averaged galaxy-galaxy $\\gamma_t (R) $ is:\n",
    "<br>\n",
    "$$\n",
    "\\left< \\gamma_t(R, z_L) \\right> = \\frac{\\rho_0}{\\Sigma_c (z_L)} \\int \\frac{k dk}{2\\pi} P_{hm}(k, z_L) J_2(kR) \n",
    "$$\n",
    "\n",
    "which is not the same as applying the Hankel transformation implemented on [`hankl.P2xi`](https://hankl.readthedocs.io/en/latest/api.html#hankl.P2xi). Altough we can't simply take the second index of the matter power spectrum we can stil use the Hankel transform with a proper transformation.\n",
    "\n",
    "Using the definition [`hank.FFTLog`](https://hankl.readthedocs.io/en/latest/api.html#hankl.FFTLog) with `q=-1` we can find a proper transformation of the Hankel transformation of the function $F(x)$:\n",
    "$$\n",
    "\\frac{\\rho_0}{\\Sigma_c (z_L)} \\int \\frac{k dk}{2\\pi} P_{hm}(k, z_L) J_2(kR)  \\Rightarrow \\int F(k) J_2(kR) (kR)^{-q} R dk\n",
    "$$\n",
    "Which basically is:\n",
    "$$\n",
    "F(k) = \\frac{\\rho_0}{\\Sigma_c (z_L)} \\frac{1} {2\\pi} P_{hm}(k)\n",
    "$$\n",
    "\n",
    "The power spectrum with some constant factors."
   ]
  },
  {
   "cell_type": "code",
   "execution_count": null,
   "id": "ac1b2805-3a27-4032-9bb3-0239ed3934a3",
   "metadata": {},
   "outputs": [],
   "source": [
    "from astropy.cosmology import FlatLambdaCDM\n",
    "cosmo = FlatLambdaCDM(H0=70, Om0=0.3, Ob0=0.05)\n",
    "\n",
    "omega_m  = cosmo.Om0\n",
    "h=cosmo.H0.value/100.\n",
    "const = 1.67e-7 * (omega_m * h**2) # /Mpc^2\n",
    "\n",
    "def compute_beta(zl, zs, cosmo):\n",
    "    dl, ds = cosmo.angular_diameter_distance(np.array([zl, zs])).value\n",
    "    dls = cosmo.angular_diameter_distance_z1z2(zl, zs).value\n",
    "    return dl, dls/ds\n",
    "\n",
    "def compute_sigma_crit(z_lens, z_source_eff, cosmo=cosmo):\n",
    "    # compute sigma_crit times rho_0\n",
    "    ## useful constant (4\\pi G\\rho_0)/c^2 [1/Mpc^2] value\n",
    "    const = 1.67e-7 * (cosmo.Om0 * cosmo.h**2)\n",
    "    \n",
    "    # beta is dA_lens_source/dA_source\n",
    "    dA_lens, beta = compute_beta(z_lens, z_source_eff, cosmo)\n",
    "    \n",
    "    # final normalization factor\n",
    "    sigma_crit_rho = const*(1+z_lens)*dA_lens*beta\n",
    "    return \n",
    "    \n",
    "def avg_gamma_t(k, P, l=2, z_lens=0., z_source_eff=1., cosmo=cosmo):\n",
    "    \"\"\" Compute the average gamma_t\n",
    "    \n",
    "    Formula 12 from Jeong, Komatsu and Jain 2009\n",
    "    \"\"\"\n",
    "    # compute hankel transformation of the matter power spectrum\n",
    "    r, f = hankl.FFTLog(k, P * k ** 0.5, q=0, mu=l + 0.5)\n",
    "    \n",
    "    # gamma_t without the normalization factors\n",
    "    gmt_wo_norm = f * (2.0 * np.pi) ** (-0.5) * r ** (-1.5)\n",
    "    \n",
    "    # compute sigma_crit times rho_0\n",
    "    ## useful constant (4\\pi G\\rho_0)/c^2 [1/Mpc^2] value\n",
    "    const = 1.67e-7 * (cosmo.Om0 * cosmo.h**2)\n",
    "    \n",
    "    # beta is dA_lens_source/dA_source\n",
    "    dA_lens, beta = compute_beta(z_lens, z_source_eff, cosmo)\n",
    "    \n",
    "    # final normalization factor\n",
    "    sigma_crit_rho = const*(1+z_lens)*dA_lens*beta\n",
    "    \n",
    "    return r, sigma_crit_rho*gmt_wo_norm"
   ]
  },
  {
   "cell_type": "code",
   "execution_count": null,
   "id": "d1bd9d6a-5b31-4326-855c-516def1ba030",
   "metadata": {},
   "outputs": [],
   "source": [
    "t0 = time()\n",
    "s, gmt = avg_gamma_t(k, pk, z_lens=z_lin[1], z_source_eff=z_lin[1]+0.4)\n",
    "eTimes['Hankl'].append((time()-t0)*1000)\n",
    "print('It takes %.3f msec'%(eTimes['Hankl'][-1]))"
   ]
  },
  {
   "cell_type": "code",
   "execution_count": null,
   "id": "d4df8f7e-dc94-446e-8e14-7cfd8090e095",
   "metadata": {},
   "outputs": [],
   "source": [
    "# plt.xscale('log')\n",
    "plt.loglog()\n",
    "plt.plot(s, gmt, label=r'eps time: %.2f ms'%eTimes['Hankl'][-1])\n",
    "# plt.plot(s, s*s*xi2, label=r'$s^{2}\\xi_{2}$ - eps time: %.2f ms'%eTimes['Hankl'][1])\n",
    "plt.xlim(0.1,10.)\n",
    "plt.ylim(1e-4,1.5e-3)\n",
    "plt.xlabel(r'$s\\: (Mpc/h)$')\n",
    "plt.ylabel(r' $\\left< \\gamma_t (s)\\right>$', fontsize=16)\n",
    "plt.legend()\n",
    "plt.title('Galaxy-Galaxy: z_lens, z_source = %.2f, %.2f'%(z_lin[1], z_lin[1]+0.4))\n",
    "plt.show()"
   ]
  },
  {
   "cell_type": "markdown",
   "id": "b5fc1245-3e07-4758-8a7f-8e7b81bc9538",
   "metadata": {},
   "source": [
    "If the kmin is greater than 10^{-4} some oscilation patterns appears on the small scales."
   ]
  },
  {
   "cell_type": "code",
   "execution_count": null,
   "id": "2945a644-36da-40a6-a5a1-bdd3611a5287",
   "metadata": {},
   "outputs": [],
   "source": []
  },
  {
   "cell_type": "markdown",
   "id": "f390e1eb-401a-4e57-b576-a1f9c677cc82",
   "metadata": {},
   "source": [
    "## Comparasion Between the Algorithms"
   ]
  },
  {
   "cell_type": "code",
   "execution_count": null,
   "id": "405d32b0-73b9-4900-bb32-80ea4886ec5f",
   "metadata": {},
   "outputs": [],
   "source": [
    "from hankel import HankelTransform\n",
    "from scipy.interpolate import interp1d\n",
    "from scipy.interpolate import InterpolatedUnivariateSpline as spline\n",
    "\n",
    "def hankel_P2xi(k, P, l=0, N=1000, h=0.005):\n",
    "    hp = HankelTransform(nu=l, N=N, h=h)        # Create the HankelTransform instance, order zero\n",
    "    pkk = interp1d(k, P * k ** 1.5, fill_value='extrapolate')\n",
    "    \n",
    "    _f = hp.transform(pkk, k, inverse=True,ret_err=False)  # Compute the inverse transform\n",
    "    f = spline(k, _f) # Define a spline to approximate transform\n",
    "    r = 2*np.pi/k\n",
    "    return r, f(k) * (2.0 * np.pi) ** (-1.5) * r ** (-1.5) * (1j) ** l"
   ]
  },
  {
   "cell_type": "code",
   "execution_count": null,
   "id": "77c9a605-9863-43e0-b578-01917208741b",
   "metadata": {},
   "outputs": [],
   "source": [
    "pk = pk_nonlin[0]\n",
    "k = kh_nonlin\n",
    "\n",
    "r, xi_h = hankel_P2xi(k, pk, N=1000, h=0.005)"
   ]
  },
  {
   "cell_type": "code",
   "execution_count": null,
   "id": "c5fc577f-4ba7-4c75-a449-bc354bf4489d",
   "metadata": {},
   "outputs": [],
   "source": [
    "# plt.loglog()\n",
    "plt.xscale('log')\n",
    "plt.plot(r, r*r*xi_h, label=r'$s^{2}\\xi_{0}$ - eps time: %.2f ms'%eTimes['Hankl'][0])\n",
    "plt.plot(s, s*s*xi0, label=r'$s^{2}\\xi_{2}$ - eps time: %.2f ms'%eTimes['Hankl'][1])\n",
    "plt.xlim(3,180)\n",
    "plt.ylim(-60,30)\n",
    "plt.xlabel(r'$s\\: (Mpc/h)$')\n",
    "plt.ylabel(r'$s^{2} \\xi_{l}$')\n",
    "plt.legend()\n",
    "plt.title('Hankel Transformation - Non Linear - 500 points')\n",
    "plt.show()"
   ]
  },
  {
   "cell_type": "code",
   "execution_count": null,
   "id": "e4d5b8cd-e838-4c9e-ae6a-a84a1e16bb11",
   "metadata": {},
   "outputs": [],
   "source": []
  },
  {
   "cell_type": "code",
   "execution_count": null,
   "id": "68b9dfa1-fb82-421f-a458-0edd06da89e6",
   "metadata": {},
   "outputs": [],
   "source": []
  },
  {
   "cell_type": "code",
   "execution_count": null,
   "id": "d50a183d-ba8e-416e-9dac-3b29ac9b1ab4",
   "metadata": {},
   "outputs": [],
   "source": []
  },
  {
   "cell_type": "code",
   "execution_count": null,
   "id": "07d329b3-d779-41b0-897c-795278a279dd",
   "metadata": {},
   "outputs": [],
   "source": [
    "# pk * k ** 1.5"
   ]
  },
  {
   "cell_type": "code",
   "execution_count": null,
   "id": "3001e43c-b775-4327-906c-505bb6593611",
   "metadata": {},
   "outputs": [],
   "source": [
    "# Define grid\n",
    "\n",
    "r = np.linspace(0,1,100)[1:]       # Define a physical grid\n",
    "k = np.logspace(-3,2,100)           # Define a spectral grid\n",
    "\n",
    "f    = lambda r : 1/(r**2 + 1)                     # Sample Function\n",
    "h    = HankelTransform(nu=0,N=1000,h=0.005)        # Create the HankelTransform instance, order zero\n",
    "hhat = h.transform(f,k,ret_err=False)              # Return the transform of f at k."
   ]
  },
  {
   "cell_type": "code",
   "execution_count": null,
   "id": "e9e31b37-e0cc-419a-bff9-0e038d8f1fb6",
   "metadata": {},
   "outputs": [],
   "source": []
  },
  {
   "cell_type": "code",
   "execution_count": null,
   "id": "442d2451-8735-46f3-bab0-d6eab70868c3",
   "metadata": {},
   "outputs": [],
   "source": []
  }
 ],
 "metadata": {
  "kernelspec": {
   "display_name": "conda-clevarenv",
   "language": "python",
   "name": "conda-clevarenv"
  },
  "language_info": {
   "codemirror_mode": {
    "name": "ipython",
    "version": 3
   },
   "file_extension": ".py",
   "mimetype": "text/x-python",
   "name": "python",
   "nbconvert_exporter": "python",
   "pygments_lexer": "ipython3",
   "version": "3.9.7"
  }
 },
 "nbformat": 4,
 "nbformat_minor": 5
}
