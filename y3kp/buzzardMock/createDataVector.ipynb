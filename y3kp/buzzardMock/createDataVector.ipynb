{
 "cells": [
  {
   "cell_type": "markdown",
   "id": "641997a9-35bb-47c6-88c8-823cc2c86ef8",
   "metadata": {},
   "source": [
    "# Create Data Vector\n",
    "\n",
    "To validate and test the y3 cluster pipeline we make a simplified mock data of the Buzzard v.1.9.8 dataset. Here I build the data vector.\n",
    "\n",
    "Outline:\n",
    "- Number counts\n",
    "- Binned $\\gamma_t(\\theta)$ profiles\n",
    "- Power Spectrum (using nbody-tool kit)\n"
   ]
  },
  {
   "cell_type": "code",
   "execution_count": 1,
   "id": "be250907-b731-4deb-99ac-c5ee6c5e8a6a",
   "metadata": {},
   "outputs": [],
   "source": [
    "#!/usr/bin/env python\n",
    "import os, fitsio\n",
    "\n",
    "import sys\n",
    "import numpy as np\n",
    "import matplotlib.pyplot as plt\n",
    "from astropy.io.fits import getdata\n",
    "from astropy.table import Table"
   ]
  },
  {
   "cell_type": "code",
   "execution_count": 2,
   "id": "a87199b8-8d4f-41a9-a46c-f3ba178322e6",
   "metadata": {},
   "outputs": [],
   "source": [
    "import matplotlib\n",
    "matplotlib.rc('xtick', labelsize=20, top=True, direction='in')\n",
    "matplotlib.rc('ytick', labelsize=20, right=True, direction='in')\n",
    "matplotlib.rc('axes', linewidth=1, labelsize=20)\n",
    "matplotlib.rc('xtick.major', size=5)\n",
    "#matplotlib.rc('xtick.minor', size=5)\n",
    "matplotlib.rc('ytick.major', size=5)\n",
    "#matplotlib.rc('ytick.minor', size=5)"
   ]
  },
  {
   "cell_type": "markdown",
   "id": "169fc220-c833-4e4b-995f-ae5f84c1bd35",
   "metadata": {},
   "source": [
    "## Load Mock\n",
    "\n",
    "For this first validation we will use $\\lambda>5$.\n",
    "\n",
    "For more information how this file was created take a look at the source code.\n",
    "https://github.com/estevesjh/muStarSigmaProfiles/blob/main/notebooks/0.CreateCopacabanaCatalogs.ipynb"
   ]
  },
  {
   "cell_type": "code",
   "execution_count": 3,
   "id": "3fef1b28-f261-4af8-a3d3-62392ef0b7c6",
   "metadata": {},
   "outputs": [
    {
     "name": "stdout",
     "output_type": "stream",
     "text": [
      "halo file name: /global/cfs/cdirs/des/jesteves/data/buzzard/v1.9.8/y3_rm/mock_buzzard_like_y3_v0.fits\n"
     ]
    }
   ],
   "source": [
    "from fileLoc import FileLocs\n",
    "\n",
    "floc = FileLocs(machine='nersc')\n",
    "print('halo file name: %s'%floc.mock_fname)"
   ]
  },
  {
   "cell_type": "code",
   "execution_count": 15,
   "id": "ef499845-0478-4779-a489-bb7e6f2e5d05",
   "metadata": {},
   "outputs": [
    {
     "name": "stdout",
     "output_type": "stream",
     "text": [
      "All data size: 583043\n"
     ]
    }
   ],
   "source": [
    "data = Table(getdata(floc.mock_fname))\n",
    "print('All data size: %i'%(len(data)))"
   ]
  },
  {
   "cell_type": "code",
   "execution_count": 21,
   "id": "e7e4103a-5200-400a-8ceb-60e564f04b73",
   "metadata": {},
   "outputs": [
    {
     "name": "stdout",
     "output_type": "stream",
     "text": [
      "$\\lambda>5$ has size: 263387\n",
      "$\\lambda>20$ has size: 11210\n"
     ]
    }
   ],
   "source": [
    "lgt5 = np.array(data['lambda_mor'])>=5.\n",
    "lgt20 = np.array(data['lambda_mor'])>=20.\n",
    "\n",
    "mock = data[lgt5]\n",
    "\n",
    "print(r'$\\lambda>5$ has size: %i'%np.count_nonzero(lgt5))\n",
    "print(r'$\\lambda>20$ has size: %i'%np.count_nonzero(lgt20))"
   ]
  },
  {
   "cell_type": "markdown",
   "id": "0ece7e19-9b94-4cdf-9a96-f526e046f7dc",
   "metadata": {},
   "source": [
    "# Number Counts\n",
    "\n",
    "We will try to use the same bining scheme from DES Y1.\n",
    "\n",
    "$$\n",
    "\\lambda \\in [5, 20, 30, 45, 60, \\infty] \\\\\n",
    "z \\in [0.2, 0.35, 0.5, 0.65]\n",
    "$$\n",
    "\n",
    "However in the Buzzard simulations the overall number of cluster is less than the DES Y3. So, we might need to change the binning scheme in order to have a reasonable statistics."
   ]
  },
  {
   "cell_type": "code",
   "execution_count": 30,
   "id": "8ed20323-7a3e-41d1-9c39-858d953eeaf7",
   "metadata": {},
   "outputs": [
    {
     "name": "stdout",
     "output_type": "stream",
     "text": [
      "lambda bins: [  5  20  30  45  60 900]\n",
      "redshift bins: [0.2  0.35 0.5  0.65]\n"
     ]
    }
   ],
   "source": [
    "from setup_bins import lbdbins, zbins\n",
    "\n",
    "print('lambda bins:', lbdbins)\n",
    "print('redshift bins:', zbins)"
   ]
  },
  {
   "cell_type": "code",
   "execution_count": null,
   "id": "79cde099-75cd-4a93-9dcb-25a3907ca46e",
   "metadata": {},
   "outputs": [],
   "source": []
  },
  {
   "cell_type": "code",
   "execution_count": 107,
   "id": "0cd39cae-8736-4757-9964-3acae7274c2d",
   "metadata": {},
   "outputs": [],
   "source": [
    "def compute_number_counts(x, z, xbins, zbins):\n",
    "    counts = []\n",
    "    for xl, xh in zip(xbins[:-1], xbins[1:]):\n",
    "        xmask = (x>=xl)&(x<=xh)\n",
    "        xcounts = []\n",
    "        for zl, zh in zip(zbins[:-1], zbins[1:]):\n",
    "            zmask = (z>=zl)&(z<=zh)\n",
    "            xcounts.append(np.count_nonzero(zmask&xmask))\n",
    "        counts.append(xcounts)\n",
    "    return np.array(counts)"
   ]
  },
  {
   "cell_type": "code",
   "execution_count": 108,
   "id": "b57d1c44-19c2-46a6-ac46-7df2693144e8",
   "metadata": {},
   "outputs": [],
   "source": [
    "lbd = np.array(mock['lambda_mor'])\n",
    "z = np.array(mock['redshift'])\n",
    "\n",
    "nc_all_binY3 = compute_number_counts(lbd, z, lbdbins, zbins)"
   ]
  },
  {
   "cell_type": "code",
   "execution_count": 109,
   "id": "d9e0f5a8-55ca-4999-a91b-5d26c2363ef8",
   "metadata": {},
   "outputs": [
    {
     "name": "stdout",
     "output_type": "stream",
     "text": [
      "[[ 41451  83129 127597]\n",
      " [  1633   2777   3685]\n",
      " [   538    901   1036]\n",
      " [   121    197    163]\n",
      " [    59     60     40]]\n"
     ]
    }
   ],
   "source": [
    "print(nc_all_binY3)"
   ]
  },
  {
   "cell_type": "code",
   "execution_count": 110,
   "id": "b50c89bb-0ed6-4de2-9a11-09933e7322bb",
   "metadata": {},
   "outputs": [],
   "source": [
    "lb60 = (lbd<lbdbins[-1])&(lbd>=lbdbins[-2])"
   ]
  },
  {
   "cell_type": "code",
   "execution_count": 112,
   "id": "2136607f-1c94-42b3-90aa-ea7f5c8b1089",
   "metadata": {},
   "outputs": [
    {
     "data": {
      "text/plain": [
       "(array([ 2., 13., 25., 36., 29., 23., 12., 12.,  5.,  2.]),\n",
       " array([14.553033 , 14.6221075, 14.691183 , 14.760258 , 14.829332 ,\n",
       "        14.898407 , 14.967483 , 15.036557 , 15.105632 , 15.174707 ,\n",
       "        15.243782 ], dtype=float32),\n",
       " <BarContainer object of 10 artists>)"
      ]
     },
     "execution_count": 112,
     "metadata": {},
     "output_type": "execute_result"
    },
    {
     "data": {
      "image/png": "[encoded data removed]",
      "text/plain": [
       "<Figure size 432x288 with 1 Axes>"
      ]
     },
     "metadata": {
      "needs_background": "light"
     },
     "output_type": "display_data"
    }
   ],
   "source": [
    "plt.hist(np.log10(mock['Mvir'][lb60]))"
   ]
  },
  {
   "cell_type": "code",
   "execution_count": null,
   "id": "7700a3c2-13f4-4178-8927-2b3eaa35f447",
   "metadata": {},
   "outputs": [],
   "source": []
  },
  {
   "cell_type": "code",
   "execution_count": null,
   "id": "54f1cef3-f6d3-497c-969a-eb92ecd04e9a",
   "metadata": {},
   "outputs": [],
   "source": []
  },
  {
   "cell_type": "markdown",
   "id": "329bae47-2c5f-486e-9356-240e997af5be",
   "metadata": {},
   "source": [
    "The number of clusters on the last lambda bins are very low, specially for the highest one. We should re-define the lambda bins"
   ]
  },
  {
   "cell_type": "code",
   "execution_count": 73,
   "id": "377e0375-9752-4d60-a097-e692eb926531",
   "metadata": {},
   "outputs": [
    {
     "name": "stdout",
     "output_type": "stream",
     "text": [
      "lambda bins: [  5  15  25  40 160]\n"
     ]
    }
   ],
   "source": [
    "lbdbins_new = np.array([5, 15, 25, 40, 160])\n",
    "print('lambda bins:', lbdbins_new)"
   ]
  },
  {
   "cell_type": "code",
   "execution_count": 74,
   "id": "cf6f925d-5db8-473d-8a73-fa685f84e349",
   "metadata": {},
   "outputs": [
    {
     "data": {
      "text/plain": [
       "(90, 312995.3962722788)"
      ]
     },
     "execution_count": 74,
     "metadata": {},
     "output_type": "execute_result"
    },
    {
     "data": {
      "image/png": "[encoded data removed]",
      "text/plain": [
       "<Figure size 432x288 with 1 Axes>"
      ]
     },
     "metadata": {
      "needs_background": "light"
     },
     "output_type": "display_data"
    }
   ],
   "source": [
    "plt.loglog()\n",
    "plt.hist(lbd, bins=lbdbins_new)\n",
    "plt.ylim(90,)"
   ]
  },
  {
   "cell_type": "code",
   "execution_count": 75,
   "id": "a4c9e366-2290-42d4-b3bf-2f0db4c74151",
   "metadata": {},
   "outputs": [
    {
     "name": "stdout",
     "output_type": "stream",
     "text": [
      "[[ 38937  78533 121239]\n",
      " [  3601   6495   8908]\n",
      " [   980   1623   2013]\n",
      " [   284    413    361]]\n"
     ]
    }
   ],
   "source": [
    "lbd = np.array(mock['lambda_mor'])\n",
    "z = np.array(mock['redshift'])\n",
    "\n",
    "nc_all_new = compute_number_counts(lbd, z, lbdbins_new, zbins)\n",
    "print(nc_all_new)"
   ]
  },
  {
   "cell_type": "markdown",
   "id": "47e561f9-5d78-4624-9821-0a161916ea81",
   "metadata": {},
   "source": [
    "Now we have at least 100 clusters on the highest lambda bins"
   ]
  },
  {
   "cell_type": "code",
   "execution_count": 69,
   "id": "c9c0c885-6672-41ca-900e-22395491d5f1",
   "metadata": {},
   "outputs": [
    {
     "data": {
      "text/plain": [
       "array([ 38038,  76906, 118981,   3706,   6760,   9326,   1340,   2240,\n",
       "         2975,    718,   1158,   1239])"
      ]
     },
     "execution_count": 69,
     "metadata": {},
     "output_type": "execute_result"
    }
   ],
   "source": [
    "nc_all_new.flatten()"
   ]
  },
  {
   "cell_type": "code",
   "execution_count": null,
   "id": "898a3b1f-d582-4d5e-83ee-b26747872375",
   "metadata": {},
   "outputs": [],
   "source": []
  },
  {
   "cell_type": "markdown",
   "id": "e2a19283-70c4-4450-b9c3-8e6ea05ad51f",
   "metadata": {},
   "source": [
    "# $\\gamma_t(\\theta)$ Profiles\n",
    "\n",
    "In this section we will convert the physical quantities of the $\\Delta \\Sigma (R)$ profiles in observed $\\gamma_t(\\theta)$ profiles. \n",
    "\n",
    "The conversion happens in three steps:\n",
    "- The conversion factor between matter excess and the observed shear profile is  $\\Sigma^{\\prime}_{\\rm crit} (z, r)$ \n",
    "- The second step is to convert physical units to angular units\n",
    "- Lastly, we stack the profiles in lambda and redshift bins."
   ]
  },
  {
   "cell_type": "code",
   "execution_count": 78,
   "id": "3f1158a5-56a3-4334-9bf9-ea248592912f",
   "metadata": {},
   "outputs": [],
   "source": [
    "import radial_bins_phys_mpc as rbp\n",
    "\n",
    "radii = rbp.rp_phys_mpc\n",
    "deltaSigma = np.array(mock['DeltaSigma'])"
   ]
  },
  {
   "cell_type": "code",
   "execution_count": null,
   "id": "f1024d48-f77f-4c41-b3b0-f37be9619d6c",
   "metadata": {},
   "outputs": [],
   "source": []
  },
  {
   "cell_type": "code",
   "execution_count": 89,
   "id": "b22690c9-0aa2-4f6f-967a-6c360659a13f",
   "metadata": {},
   "outputs": [],
   "source": [
    "path_boost = '/global/cfs/cdirs/des/jesteves/data/boost_factor/y1/tamas_profiles/'\n",
    "fname_base = path_boost+'full-unblind-v2-mcal-zmix_y1clust_l%i_z%i_zpdf_boost_resp.dat'"
   ]
  },
  {
   "cell_type": "code",
   "execution_count": 103,
   "id": "c3af6ff3-e25b-401e-bc62-8865c4086541",
   "metadata": {},
   "outputs": [],
   "source": [
    "# R, B, Sigma = np.genfromtxt(path_boost+'full-unblind-v2-mcal-zmix_y1clust_l5_z0_zpdf_boost_resp.dat',unpack=True)\n",
    "R, B, Sigma = np.genfromtxt(fname_base%(0,0),unpack=True)\n"
   ]
  },
  {
   "cell_type": "code",
   "execution_count": null,
   "id": "392adba0-348a-4e1d-8b69-be0ab56999db",
   "metadata": {},
   "outputs": [],
   "source": []
  },
  {
   "cell_type": "code",
   "execution_count": 90,
   "id": "e6e52aad-34a0-4374-bc53-3ce3b949f08d",
   "metadata": {},
   "outputs": [
    {
     "ename": "FileNotFoundError",
     "evalue": "[Errno 2] No such file or directory: '/global/cfs/cdirs/des/jesteves/data/boost_factor/y1/tamas_profiles/full-unblind-v2-mcal-zmix_y1clust_l0_z3_zpdf_boost_resp.dat'",
     "output_type": "error",
     "traceback": [
      "\u001b[0;31m---------------------------------------------------------------------------\u001b[0m",
      "\u001b[0;31mFileNotFoundError\u001b[0m                         Traceback (most recent call last)",
      "Input \u001b[0;32mIn [90]\u001b[0m, in \u001b[0;36m<cell line: 1>\u001b[0;34m()\u001b[0m\n\u001b[0;32m----> 1\u001b[0m \u001b[43mnp\u001b[49m\u001b[38;5;241;43m.\u001b[39;49m\u001b[43mload\u001b[49m\u001b[43m(\u001b[49m\u001b[43mfname_base\u001b[49m\u001b[38;5;241;43m%\u001b[39;49m\u001b[43m(\u001b[49m\u001b[38;5;241;43m0\u001b[39;49m\u001b[43m,\u001b[49m\u001b[38;5;241;43m3\u001b[39;49m\u001b[43m)\u001b[49m\u001b[43m)\u001b[49m\n",
      "File \u001b[0;32m/global/common/software/lsst/common/miniconda/dp-v0.0.42-d/lib/python3.8/site-packages/numpy/lib/npyio.py:407\u001b[0m, in \u001b[0;36mload\u001b[0;34m(file, mmap_mode, allow_pickle, fix_imports, encoding)\u001b[0m\n\u001b[1;32m    405\u001b[0m     own_fid \u001b[38;5;241m=\u001b[39m \u001b[38;5;28;01mFalse\u001b[39;00m\n\u001b[1;32m    406\u001b[0m \u001b[38;5;28;01melse\u001b[39;00m:\n\u001b[0;32m--> 407\u001b[0m     fid \u001b[38;5;241m=\u001b[39m stack\u001b[38;5;241m.\u001b[39menter_context(\u001b[38;5;28;43mopen\u001b[39;49m\u001b[43m(\u001b[49m\u001b[43mos_fspath\u001b[49m\u001b[43m(\u001b[49m\u001b[43mfile\u001b[49m\u001b[43m)\u001b[49m\u001b[43m,\u001b[49m\u001b[43m \u001b[49m\u001b[38;5;124;43m\"\u001b[39;49m\u001b[38;5;124;43mrb\u001b[39;49m\u001b[38;5;124;43m\"\u001b[39;49m\u001b[43m)\u001b[49m)\n\u001b[1;32m    408\u001b[0m     own_fid \u001b[38;5;241m=\u001b[39m \u001b[38;5;28;01mTrue\u001b[39;00m\n\u001b[1;32m    410\u001b[0m \u001b[38;5;66;03m# Code to distinguish from NumPy binary files and pickles.\u001b[39;00m\n",
      "\u001b[0;31mFileNotFoundError\u001b[0m: [Errno 2] No such file or directory: '/global/cfs/cdirs/des/jesteves/data/boost_factor/y1/tamas_profiles/full-unblind-v2-mcal-zmix_y1clust_l0_z3_zpdf_boost_resp.dat'"
     ]
    }
   ],
   "source": [
    "np.load(fname_base%(0,3))"
   ]
  },
  {
   "cell_type": "code",
   "execution_count": null,
   "id": "9b77c04e-ec9b-4cc3-b433-26b79031d4fe",
   "metadata": {},
   "outputs": [],
   "source": []
  }
 ],
 "metadata": {
  "kernelspec": {
   "display_name": "desc-python",
   "language": "python",
   "name": "desc-python"
  },
  "language_info": {
   "codemirror_mode": {
    "name": "ipython",
    "version": 3
   },
   "file_extension": ".py",
   "mimetype": "text/x-python",
   "name": "python",
   "nbconvert_exporter": "python",
   "pygments_lexer": "ipython3",
   "version": "3.8.12"
  }
 },
 "nbformat": 4,
 "nbformat_minor": 5
}
