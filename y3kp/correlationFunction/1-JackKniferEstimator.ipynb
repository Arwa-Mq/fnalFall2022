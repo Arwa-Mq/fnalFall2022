{
 "cells": [
  {
   "cell_type": "markdown",
   "id": "a44824a2-cf62-40bd-9db6-da9e819bcc75",
   "metadata": {},
   "source": [
    "# TreeCorr Tutorial\n",
    "\n",
    "Following tutorial:\n",
    "https://rmjarvis.github.io/TreeCorr/_build/html/guide.html\n",
    "\n",
    "Here I follow Maria's notebook on how to run xpipe.\n",
    "https://cdcvs.fnal.gov/redmine/projects/des-clusters/wiki/XpipeTutorial"
   ]
  },
  {
   "cell_type": "code",
   "execution_count": 1,
   "id": "6881920b-379b-431f-abb5-e3ab2ec66cc8",
   "metadata": {},
   "outputs": [
    {
     "name": "stderr",
     "output_type": "stream",
     "text": [
      "\n",
      "WARNING: version mismatch between CFITSIO header (v4.000999999999999) and linked library (v4.01).\n",
      "\n",
      "\n",
      "WARNING: version mismatch between CFITSIO header (v4.000999999999999) and linked library (v4.01).\n",
      "\n",
      "\n",
      "WARNING: version mismatch between CFITSIO header (v4.000999999999999) and linked library (v4.01).\n",
      "\n"
     ]
    }
   ],
   "source": [
    "import numpy as np\n",
    "import h5py\n",
    "import healpy as hp\n",
    "import matplotlib.pyplot as plt\n",
    "from astropy.table import Table\n",
    "import seaborn as sns\n",
    "sns.set_context('talk')"
   ]
  },
  {
   "cell_type": "code",
   "execution_count": null,
   "id": "c2fc8f87-fb71-45e5-a114-95db7d6bdae4",
   "metadata": {},
   "outputs": [],
   "source": []
  },
  {
   "cell_type": "markdown",
   "id": "54007a0d-5d81-49da-9056-b6843bac6ebc",
   "metadata": {},
   "source": [
    "## Read The Data"
   ]
  },
  {
   "cell_type": "code",
   "execution_count": 4,
   "id": "9a1ad6df-1613-4ebe-b2b1-01794cf730e8",
   "metadata": {},
   "outputs": [],
   "source": [
    "path = '/project/projectdirs/des/www/y3_cats/'\n",
    "rm_fname = path+'y3_gold_2.2.1_wide_sofcol_run_redmapper_v0.5.1_redmagic_12_3_19.h5'"
   ]
  },
  {
   "cell_type": "code",
   "execution_count": 5,
   "id": "d5e75e4b-e107-43a9-baea-47f3d6f00e0f",
   "metadata": {},
   "outputs": [
    {
     "name": "stdout",
     "output_type": "stream",
     "text": [
      "Taking a look at data structure\n",
      "all: ['catalog', 'index', 'masks', 'randoms', 'regions']\n",
      "redMaPPer columns: ['bcg_ilum', 'bcg_spec_z', 'c_lambda', 'c_lambda_err', 'chisq', 'dec', 'dec_cent', 'dec_orig', 'dlambda_dz', 'dlambda_dz2', 'dlambdavar_dz', 'dlambdavar_dz2', 'ebv_mean', 'geomaskfrac', 'id_cent', 'ilum', 'lambda_chisq', 'lambda_chisq_c', 'lambda_chisq_ce', 'lambda_chisq_cent', 'lambda_chisq_e', 'lambda_zred', 'lambda_zred_e', 'lim_exptime', 'lim_limmag', 'lim_limmag_dered', 'lim_limmag_hard', 'lnbcglike', 'lnlamlike', 'lnlike', 'mag_lambda_err', 'maskfrac', 'maskgal_index', 'mem_match_id', 'members', 'model_mag', 'model_magerr', 'ncent', 'ncent_good', 'ncross', 'p_bcg', 'p_c', 'p_cen', 'p_fg', 'p_sat', 'pz', 'pzbins', 'q_cen', 'q_miss', 'r_lambda', 'ra', 'ra_cent', 'ra_orig', 'refmag', 'refmag_err', 'rmask', 'scaleval', 'w', 'z', 'z_init', 'z_lambda', 'z_lambda_e', 'z_lambda_e_raw', 'z_lambda_niter', 'z_lambda_raw', 'z_spec_init', 'zlambda_cent', 'zred', 'zred_chisq', 'zred_e']\n",
      "\n",
      "random columns:  ['avg_lambdaout', 'dec', 'lambda_in', 'ra', 'sigma_lambdaout', 'weight', 'ztrue']\n"
     ]
    }
   ],
   "source": [
    "print('Taking a look at data structure')\n",
    "rm = h5py.File(rm_fname,'r+')\n",
    "print('all:',list(rm.keys()))\n",
    "cat = rm['catalog/redmapper/lgt5']\n",
    "ran = rm['randoms/redmapper/lgt5']\n",
    "print('redMaPPer columns:',list(cat.keys()))\n",
    "print()\n",
    "print('random columns: ',list(ran.keys()))\n",
    "rm.close()"
   ]
  },
  {
   "cell_type": "code",
   "execution_count": 6,
   "id": "e6b85f43-fc7a-43c7-ae3a-f5af86a956b2",
   "metadata": {},
   "outputs": [],
   "source": [
    "def read_hdf5(fname, path, columns=None):\n",
    "    \"\"\"Read the hdf5 files for a given path\n",
    "    if columns is None read all columns\n",
    "    \"\"\"\n",
    "    h5  = h5py.File(fname,'r+')\n",
    "    h5group = h5[path]\n",
    "    if columns is None: columns = list(h5group.keys())\n",
    "    \n",
    "    out = dict()\n",
    "    for col in columns:\n",
    "        out[col] = h5group[col][:]\n",
    "    \n",
    "    return out"
   ]
  },
  {
   "cell_type": "code",
   "execution_count": 7,
   "id": "4d84d7b1-6541-40b9-a397-157ad8d50247",
   "metadata": {},
   "outputs": [],
   "source": [
    "columns = ['mem_match_id','ra','dec','z_lambda','lambda_chisq']\n",
    "rm = Table(read_hdf5(rm_fname, 'catalog/redmapper/lgt5', columns=columns))"
   ]
  },
  {
   "cell_type": "code",
   "execution_count": 8,
   "id": "598250a7-a01d-452d-bccd-224c862b1018",
   "metadata": {},
   "outputs": [],
   "source": [
    "# data.write('values.ecsv', overwrite=True)  \n",
    "# rm.write('data/infile.fit',format='fits')"
   ]
  },
  {
   "cell_type": "code",
   "execution_count": 9,
   "id": "f96f04fd-9c68-4e62-a5ce-4ebc73e9bada",
   "metadata": {},
   "outputs": [
    {
     "data": {
      "text/html": [
       "<div><i>Table length=256481</i>\n",
       "<table id=\"table23455356986368\" class=\"table-striped table-bordered table-condensed\">\n",
       "<thead><tr><th>mem_match_id</th><th>ra</th><th>dec</th><th>z_lambda</th><th>lambda_chisq</th></tr></thead>\n",
       "<thead><tr><th>int32</th><th>float64</th><th>float64</th><th>float32</th><th>float32</th></tr></thead>\n",
       "<tr><td>432566</td><td>45.213325784218</td><td>0.413609510595717</td><td>0.26417944</td><td>6.9909916</td></tr>\n",
       "<tr><td>3562</td><td>44.8820710860101</td><td>0.289343366239</td><td>0.19364022</td><td>42.48932</td></tr>\n",
       "<tr><td>5233</td><td>44.8811817440392</td><td>0.328352252722895</td><td>0.37183228</td><td>37.272118</td></tr>\n",
       "<tr><td>407842</td><td>44.9093000971721</td><td>0.521576665208534</td><td>0.20710598</td><td>5.511259</td></tr>\n",
       "<tr><td>547270</td><td>44.8699544543159</td><td>0.663876621631463</td><td>0.42131603</td><td>6.4570675</td></tr>\n",
       "<tr><td>159197</td><td>44.5028833930552</td><td>0.568088348356786</td><td>0.49044833</td><td>8.760569</td></tr>\n",
       "<tr><td>289819</td><td>44.578130865961</td><td>0.678715300744765</td><td>0.16148742</td><td>5.694319</td></tr>\n",
       "<tr><td>217579</td><td>44.7511202766408</td><td>0.79857086337459</td><td>0.12700407</td><td>8.2418995</td></tr>\n",
       "<tr><td>822113</td><td>44.4976936090464</td><td>0.72541556122261</td><td>0.5852238</td><td>5.8011036</td></tr>\n",
       "<tr><td>86261</td><td>44.5627101437473</td><td>0.788889255041787</td><td>0.4019028</td><td>11.445444</td></tr>\n",
       "<tr><td>...</td><td>...</td><td>...</td><td>...</td><td>...</td></tr>\n",
       "<tr><td>412740</td><td>314.243424720129</td><td>-39.7559580850459</td><td>0.4301647</td><td>9.477552</td></tr>\n",
       "<tr><td>30458</td><td>313.520384277795</td><td>-40.0800091013144</td><td>0.36988264</td><td>21.986631</td></tr>\n",
       "<tr><td>160764</td><td>317.58980585987</td><td>-2.36797739412134</td><td>0.597496</td><td>7.90629</td></tr>\n",
       "<tr><td>164766</td><td>317.540564496651</td><td>-2.38608636794076</td><td>0.5901891</td><td>13.398081</td></tr>\n",
       "<tr><td>178119</td><td>317.284763877247</td><td>-2.37454783220211</td><td>0.50763935</td><td>9.706377</td></tr>\n",
       "<tr><td>155554</td><td>317.608089637927</td><td>-2.21503576658953</td><td>0.1796937</td><td>9.172453</td></tr>\n",
       "<tr><td>40297</td><td>317.546918170394</td><td>-2.21243504428219</td><td>0.6202988</td><td>22.947695</td></tr>\n",
       "<tr><td>193996</td><td>317.071538868352</td><td>-2.13051223931812</td><td>0.12749836</td><td>7.5706806</td></tr>\n",
       "<tr><td>673570</td><td>317.255644257049</td><td>-2.08427443040052</td><td>0.61033654</td><td>5.587534</td></tr>\n",
       "<tr><td>73144</td><td>317.149470587426</td><td>-1.85485889467939</td><td>0.6073254</td><td>17.13555</td></tr>\n",
       "</table></div>"
      ],
      "text/plain": [
       "<Table length=256481>\n",
       "mem_match_id        ra               dec         z_lambda  lambda_chisq\n",
       "   int32         float64           float64       float32     float32   \n",
       "------------ ---------------- ----------------- ---------- ------------\n",
       "      432566  45.213325784218 0.413609510595717 0.26417944    6.9909916\n",
       "        3562 44.8820710860101    0.289343366239 0.19364022     42.48932\n",
       "        5233 44.8811817440392 0.328352252722895 0.37183228    37.272118\n",
       "      407842 44.9093000971721 0.521576665208534 0.20710598     5.511259\n",
       "      547270 44.8699544543159 0.663876621631463 0.42131603    6.4570675\n",
       "      159197 44.5028833930552 0.568088348356786 0.49044833     8.760569\n",
       "      289819  44.578130865961 0.678715300744765 0.16148742     5.694319\n",
       "      217579 44.7511202766408  0.79857086337459 0.12700407    8.2418995\n",
       "      822113 44.4976936090464  0.72541556122261  0.5852238    5.8011036\n",
       "       86261 44.5627101437473 0.788889255041787  0.4019028    11.445444\n",
       "         ...              ...               ...        ...          ...\n",
       "      412740 314.243424720129 -39.7559580850459  0.4301647     9.477552\n",
       "       30458 313.520384277795 -40.0800091013144 0.36988264    21.986631\n",
       "      160764  317.58980585987 -2.36797739412134   0.597496      7.90629\n",
       "      164766 317.540564496651 -2.38608636794076  0.5901891    13.398081\n",
       "      178119 317.284763877247 -2.37454783220211 0.50763935     9.706377\n",
       "      155554 317.608089637927 -2.21503576658953  0.1796937     9.172453\n",
       "       40297 317.546918170394 -2.21243504428219  0.6202988    22.947695\n",
       "      193996 317.071538868352 -2.13051223931812 0.12749836    7.5706806\n",
       "      673570 317.255644257049 -2.08427443040052 0.61033654     5.587534\n",
       "       73144 317.149470587426 -1.85485889467939  0.6073254     17.13555"
      ]
     },
     "execution_count": 9,
     "metadata": {},
     "output_type": "execute_result"
    }
   ],
   "source": [
    "rm"
   ]
  },
  {
   "cell_type": "code",
   "execution_count": 10,
   "id": "da11ba78-38e3-45d1-b1b0-709ffab4e4d9",
   "metadata": {},
   "outputs": [],
   "source": [
    "ran = Table(read_hdf5(rm_fname, 'randoms/redmapper/lgt5', columns=None))"
   ]
  },
  {
   "cell_type": "code",
   "execution_count": null,
   "id": "509d2bb3-1fad-443b-bb7c-5a639161e62c",
   "metadata": {},
   "outputs": [],
   "source": []
  },
  {
   "cell_type": "markdown",
   "id": "8ee562ef-067c-40c1-93e2-9d83c997a64d",
   "metadata": {},
   "source": [
    "## Build Footprint"
   ]
  },
  {
   "cell_type": "code",
   "execution_count": 11,
   "id": "a6049fd2-4527-4214-bff1-c0effac30234",
   "metadata": {},
   "outputs": [],
   "source": [
    "def radec_to_pix(ra,dec,nside=4):\n",
    "    thetas,phis = np.radians(90-dec),np.radians(ra)\n",
    "    return hp.ang2pix(nside, thetas, phis,nest=False)"
   ]
  },
  {
   "cell_type": "code",
   "execution_count": 12,
   "id": "2cfdbd17-1c4d-4876-8344-a719a6c3138b",
   "metadata": {},
   "outputs": [
    {
     "name": "stderr",
     "output_type": "stream",
     "text": [
      "/tmp/ipykernel_14007/347958601.py:6: DeprecationWarning: `np.int` is a deprecated alias for the builtin `int`. To silence this warning, use `int` by itself. Doing this will not modify any behavior and is safe. When replacing `np.int`, you may wish to use e.g. `np.int64` or `np.int32` to specify the precision. If you wish to review your current use, check the release note link for additional information.\n",
      "Deprecated in NumPy 1.20; for more details and guidance: https://numpy.org/devdocs/release/1.20.0-notes.html#deprecations\n",
      "  hpxmap = np.zeros(npix, dtype=np.int)\n"
     ]
    }
   ],
   "source": [
    "Nside = 64\n",
    "npix = hp.nside2npix(Nside)\n",
    "hpx_rm = np.array(radec_to_pix(rm['ra'],rm['dec'],nside=Nside))\n",
    "hpx_ran = np.array(radec_to_pix(ran['ra'],ran['dec'],nside=Nside))\n",
    "\n",
    "hpxmap = np.zeros(npix, dtype=np.int)\n",
    "w, values = np.unique(hpx_ran,return_counts=True)\n",
    "hpxmap[w] = 1"
   ]
  },
  {
   "cell_type": "code",
   "execution_count": 13,
   "id": "8eeca477-b0c0-4b69-b671-773b99bd1c5e",
   "metadata": {},
   "outputs": [
    {
     "data": {
      "text/plain": [
       "Text(0.5, 1.0, 'DES Y3: Random RedMaPPer Footprint')"
      ]
     },
     "execution_count": 13,
     "metadata": {},
     "output_type": "execute_result"
    },
    {
     "data": {
      "image/png": "[encoded data removed]",
      "text/plain": [
       "<Figure size 612x388.8 with 2 Axes>"
      ]
     },
     "metadata": {
      "needs_background": "light"
     },
     "output_type": "display_data"
    }
   ],
   "source": [
    "hp.mollview(hpxmap)\n",
    "plt.title('DES Y3: Random RedMaPPer Footprint')"
   ]
  },
  {
   "cell_type": "code",
   "execution_count": null,
   "id": "93c1953e-d614-4e78-ad4f-381a11b5f9a9",
   "metadata": {},
   "outputs": [],
   "source": []
  },
  {
   "cell_type": "markdown",
   "id": "341a54b1-956b-4ef7-af55-8fd18bd9b516",
   "metadata": {},
   "source": [
    "## JackKnife"
   ]
  },
  {
   "cell_type": "code",
   "execution_count": 14,
   "id": "c5789af0-b5cd-4cf4-8e03-9fe2c0c31c84",
   "metadata": {},
   "outputs": [],
   "source": [
    "class JackKnifer(object):\n",
    "    \"\"\"\n",
    "    Define the masks of the Jackknife giving the mask, number of patches and fraction of the sky you\n",
    "    want to leave unmasked.\n",
    "    Args:\n",
    "        nside_jk (int): HEALPix resolution parameter defining\n",
    "            the different jackknife regions.\n",
    "        mask (array): sky mask.\n",
    "        frac_thr (float): minimum fraction of a given jackknife region\n",
    "            that must be unmasked for that region to be included in\n",
    "            the set of regions.\n",
    "    \"\"\"\n",
    "    def __init__(self, nside_jk, mask, frac_thr=0.8):\n",
    "        # Total number of patches across the sky.\n",
    "        npatch = hp.nside2npix(nside_jk)\n",
    "        # Resolution of the maps.\n",
    "        self.nside_maps = hp.npix2nside(len(mask))\n",
    "        # Give each JK region an index.\n",
    "        jk_ids = hp.ud_grade(np.arange(npatch),\n",
    "                             nside_out=self.nside_maps).astype(int)\n",
    "        # Number of pixels in each JK region.\n",
    "        self.npix_per_patch = (self.nside_maps//nside_jk)**2\n",
    "        ipix = np.arange(hp.nside2npix(self.nside_maps))\n",
    "\n",
    "        # Loop through available regions and collect only the\n",
    "        # unmasked ones.\n",
    "        # match = esutil.numpy_util.match(np.arange(npatch), jk_ids)\n",
    "        #mask[match[1]] = \n",
    "        \n",
    "        jk_pixels = []\n",
    "        for ip in range(npatch):\n",
    "            # Compute masked fraction.\n",
    "            msk = jk_ids == ip\n",
    "            frac = np.sum(mask[msk])/self.npix_per_patch\n",
    "            if frac > frac_thr:  # If above threshold, take.\n",
    "                jk_pixels.append(ipix[msk])\n",
    "        self.jk_pixels = np.array(jk_pixels)\n",
    "        # Total number of JK regions.\n",
    "        self.npatches = len(self.jk_pixels)\n",
    "\n",
    "    def get_mask_jk(self, jk_id):\n",
    "        \"\"\"\n",
    "        Get mask associated with a given jackknife region.\n",
    "        Args:\n",
    "            jk_id (int): jackknife region index.\n",
    "        \"\"\"\n",
    "        if jk_id >= self.npatches:\n",
    "            raise ValueError(\"Asking for non-existent jackknife region\")\n",
    "        # Initially all ones, then zero all pixels in the region.\n",
    "        msk = np.ones(hp.nside2npix(self.nside_maps))\n",
    "        msk[self.jk_pixels[jk_id]] = 0\n",
    "        return msk\n"
   ]
  },
  {
   "cell_type": "code",
   "execution_count": 16,
   "id": "a3044f06-c18a-4da5-8244-b58ba3f9a482",
   "metadata": {},
   "outputs": [
    {
     "name": "stdout",
     "output_type": "stream",
     "text": [
      "total Jk patches are 99\n"
     ]
    }
   ],
   "source": [
    "nside_jk = 8 #this is the low-resolution nside to define the JK masks. QUanto menor o valor, maior sera sua mascara/menor o numero \n",
    "#total de patches a serem removidos\n",
    "jk =  JackKnifer(nside_jk, hpxmap, frac_thr= 0.5)\n",
    "npatches = jk.npatches\n",
    "print('total Jk patches are', npatches)\n"
   ]
  },
  {
   "cell_type": "code",
   "execution_count": 18,
   "id": "d0e20f3d-3946-43cc-9a71-f6cbce689fed",
   "metadata": {},
   "outputs": [
    {
     "data": {
      "image/png": "[encoded data removed]",
      "text/plain": [
       "<Figure size 612x388.8 with 2 Axes>"
      ]
     },
     "metadata": {
      "needs_background": "light"
     },
     "output_type": "display_data"
    },
    {
     "data": {
      "image/png": "[encoded data removed]",
      "text/plain": [
       "<Figure size 612x388.8 with 2 Axes>"
      ]
     },
     "metadata": {
      "needs_background": "light"
     },
     "output_type": "display_data"
    },
    {
     "data": {
      "image/png": "[encoded data removed]",
      "text/plain": [
       "<Figure size 612x388.8 with 2 Axes>"
      ]
     },
     "metadata": {
      "needs_background": "light"
     },
     "output_type": "display_data"
    },
    {
     "data": {
      "image/png": "[encoded data removed]",
      "text/plain": [
       "<Figure size 612x388.8 with 2 Axes>"
      ]
     },
     "metadata": {
      "needs_background": "light"
     },
     "output_type": "display_data"
    }
   ],
   "source": [
    "nplots=4\n",
    "for kk in range(nplots):\n",
    "    #print(kk)\n",
    "    jk_mask = jk.get_mask_jk(kk)\n",
    "    mask_total = hpxmap * (jk_mask)  #usar essa mascara para calcular a funcao de correlacao\n",
    "    hp.mollview(mask_total)\n",
    "    plt.title('total mask'+str(kk))"
   ]
  },
  {
   "cell_type": "code",
   "execution_count": null,
   "id": "8494d521-f3b3-4136-9020-3945c946f248",
   "metadata": {},
   "outputs": [],
   "source": []
  },
  {
   "cell_type": "markdown",
   "id": "bd7328f7-095e-434a-bc21-44821ba65dd3",
   "metadata": {},
   "source": [
    "# Count-Count Correlation"
   ]
  },
  {
   "cell_type": "code",
   "execution_count": null,
   "id": "f320a7d1-ed91-40ca-9f26-c70e3f6306c0",
   "metadata": {},
   "outputs": [],
   "source": [
    "import treecorr"
   ]
  },
  {
   "cell_type": "markdown",
   "id": "cc2f7128-240d-48ac-8f62-edbf1dcb67b4",
   "metadata": {},
   "source": [
    "### Run to clusters"
   ]
  },
  {
   "cell_type": "code",
   "execution_count": null,
   "id": "9fea2740-2736-40b6-8024-8b48b53799df",
   "metadata": {},
   "outputs": [],
   "source": [
    "from __future__ import print_function\n",
    "import pprint\n",
    "\n",
    "config = treecorr.read_config('config_file.yaml')\n",
    "print(pprint.pformat(config))"
   ]
  },
  {
   "cell_type": "code",
   "execution_count": null,
   "id": "f89a9f7b-3ef0-4dcb-a068-5a6accf01221",
   "metadata": {},
   "outputs": [],
   "source": [
    "dd = treecorr.NNCorrelation(config)\n",
    "# dd.process()"
   ]
  },
  {
   "cell_type": "code",
   "execution_count": null,
   "id": "e42e4073-ccd6-44ba-913c-fc77395af496",
   "metadata": {},
   "outputs": [],
   "source": [
    "cat = treecorr.Catalog(ra=rm['ra'], dec=rm['dec'], ra_units='degrees', dec_units='degrees')\n",
    "rcat = treecorr.Catalog(ra=ran['ra'], dec=ran['dec'], ra_units='degrees', dec_units='degrees')"
   ]
  },
  {
   "cell_type": "code",
   "execution_count": null,
   "id": "a3feedc5-f620-454c-a2a1-ecc5bebf9abe",
   "metadata": {},
   "outputs": [],
   "source": [
    "dd = treecorr.NNCorrelation(config)\n",
    "dd.process(cat)"
   ]
  },
  {
   "cell_type": "code",
   "execution_count": null,
   "id": "3ed1dff2-347c-42cb-8932-4f12c8a7f786",
   "metadata": {},
   "outputs": [],
   "source": [
    "rr = treecorr.NNCorrelation(config)\n",
    "rr.process(rcat)"
   ]
  },
  {
   "cell_type": "code",
   "execution_count": null,
   "id": "dc06e117-7624-49f2-81f6-7461e03cfbed",
   "metadata": {},
   "outputs": [],
   "source": []
  },
  {
   "cell_type": "code",
   "execution_count": null,
   "id": "81eef949-e879-4c49-8213-e5a846473916",
   "metadata": {},
   "outputs": [],
   "source": []
  },
  {
   "cell_type": "markdown",
   "id": "a4db5ffb-51fb-4c87-9782-060c91ef698d",
   "metadata": {},
   "source": [
    "## Plot Results"
   ]
  },
  {
   "cell_type": "code",
   "execution_count": null,
   "id": "6beeff7b-3553-4d97-9a52-02a14f03e8ce",
   "metadata": {},
   "outputs": [],
   "source": [
    "xi, varxi = dd.calculateXi(rr)\n",
    "r = np.exp(dd.meanlogr)\n",
    "sig = np.sqrt(varxi)\n",
    "\n",
    "plt.scatter(r, xi, color='blue')\n",
    "plt.plot(r, xi, color='blue')\n",
    "plt.plot(r, -xi, color='blue', ls=':')\n",
    "plt.errorbar(r[xi>0], xi[xi>0], yerr=sig[xi>0], color='r', lw=3, ls='')\n",
    "plt.errorbar(r[xi<0], -xi[xi<0], yerr=sig[xi<0], color='r', lw=3, ls='')\n",
    "leg = plt.errorbar(-r, xi, yerr=sig, color='blue')\n",
    "\n",
    "plt.xscale('log')\n",
    "plt.yscale('log', nonpositive='clip')\n",
    "plt.xlabel(r'$\\theta$ (degrees)')\n",
    "\n",
    "plt.legend([leg], [r'$w(\\theta)$'], loc='lower left')\n",
    "plt.xlim([0.05,10])\n",
    "plt.show()"
   ]
  },
  {
   "cell_type": "markdown",
   "id": "8398cec1-57db-4196-9334-69c4b39d3e7a",
   "metadata": {},
   "source": [
    "We might want to from 6 arcmin up to 360 arcmin"
   ]
  },
  {
   "cell_type": "code",
   "execution_count": null,
   "id": "cab47ceb-b687-4ea9-9cc0-3aad9207dcc9",
   "metadata": {},
   "outputs": [],
   "source": []
  },
  {
   "cell_type": "code",
   "execution_count": null,
   "id": "696ed25f-c6f0-4f34-b9e0-41231c799b78",
   "metadata": {},
   "outputs": [],
   "source": [
    "# plt.hist(np.abs(sig/xi),bins=np.linspace(0.,0.5,21))"
   ]
  },
  {
   "cell_type": "code",
   "execution_count": null,
   "id": "9758ec30-3b30-48cc-ba4a-204cb660a495",
   "metadata": {},
   "outputs": [],
   "source": []
  },
  {
   "cell_type": "code",
   "execution_count": null,
   "id": "4ccc5823-1ae2-406c-bcbf-505af217a547",
   "metadata": {},
   "outputs": [],
   "source": [
    "from astropy.io.fits import getdata"
   ]
  },
  {
   "cell_type": "code",
   "execution_count": null,
   "id": "cb30008d-510c-4fa8-ac6a-14188155d007",
   "metadata": {},
   "outputs": [],
   "source": [
    "# hpmap = hp.read_map('y3a2_footprint_griz_1exp_v2.0.fits.gz')\n",
    "mask = hp.ud_grade(hpmap, nside_out=512)#.astype(int)"
   ]
  },
  {
   "cell_type": "code",
   "execution_count": null,
   "id": "1c7c4fed-1aae-4e17-b613-c329f85d1ce8",
   "metadata": {},
   "outputs": [],
   "source": [
    "mask[mask==hp.UNSEEN] = 0"
   ]
  },
  {
   "cell_type": "code",
   "execution_count": null,
   "id": "b6cb101f-1e1b-45cc-8be8-1f4616db44a0",
   "metadata": {},
   "outputs": [],
   "source": [
    "hp.mollview(mask)"
   ]
  }
 ],
 "metadata": {
  "kernelspec": {
   "display_name": "desc-python",
   "language": "python",
   "name": "desc-python"
  },
  "language_info": {
   "codemirror_mode": {
    "name": "ipython",
    "version": 3
   },
   "file_extension": ".py",
   "mimetype": "text/x-python",
   "name": "python",
   "nbconvert_exporter": "python",
   "pygments_lexer": "ipython3",
   "version": "3.8.12"
  }
 },
 "nbformat": 4,
 "nbformat_minor": 5
}
