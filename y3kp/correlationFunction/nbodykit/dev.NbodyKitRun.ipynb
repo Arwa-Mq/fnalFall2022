{
 "cells": [
  {
   "cell_type": "markdown",
   "id": "14bc3a09-1cb0-4473-b347-6be9aeeb4fc3",
   "metadata": {},
   "source": [
    "# Development: Nbody Kit\n",
    "\n",
    "It only works on perlmutter. \n",
    "\n",
    "```\n",
    "module swap PrgEnv-${PE_ENV,,} PrgEnv-gnu\n",
    "MPICC=\"cc -shared\" pip install --force-reinstall --no-cache-dir --no-binary=mpi4py mpi4py\n",
    "```"
   ]
  },
  {
   "cell_type": "code",
   "execution_count": 1,
   "id": "e453aa85-a86b-419f-918b-66dbb62dec48",
   "metadata": {},
   "outputs": [],
   "source": [
    "import numpy as np\n",
    "from astropy.table import Table\n",
    "from astropy.io.fits import getdata\n",
    "\n",
    "from fileLoc import FileLocs\n",
    "floc = FileLocs(machine='nersc')\n"
   ]
  },
  {
   "cell_type": "code",
   "execution_count": 2,
   "id": "d2fa3de4-4f88-4ffd-9b5a-56e2aa61015d",
   "metadata": {},
   "outputs": [],
   "source": [
    "# from nbodykit.lab import *\n",
    "# from nbodykit import setup_logging, style\n"
   ]
  },
  {
   "cell_type": "markdown",
   "id": "79dcb325-a7c4-4892-ba10-c77d15506f1d",
   "metadata": {},
   "source": [
    "## Make Patches Files"
   ]
  },
  {
   "cell_type": "code",
   "execution_count": 3,
   "id": "d36304ef-579f-43b8-bc41-5f930b89c02f",
   "metadata": {},
   "outputs": [],
   "source": [
    "from fileLoc import FileLocs\n",
    "from set_bins_files import SetupFiles\n",
    "floc = FileLocs(machine='nersc')\n",
    "path = floc.halo_run_loc"
   ]
  },
  {
   "cell_type": "code",
   "execution_count": 138,
   "id": "e22fbee9-0f89-4c64-8014-7d7ddcd5751c",
   "metadata": {},
   "outputs": [],
   "source": [
    "fname_base = path+'nbody_output/tmp/%s_mock_z%i_k%i.fits'\n",
    "\n",
    "def make_data(z_bin):\n",
    "    print('Redshift bin: %i'%z_bin)\n",
    "    data = Table(getdata((path+'data_%i.fits'%z_bin)))\n",
    "    rnd = Table(getdata((path+'rnd_%i.fits'%z_bin)))\n",
    "    \n",
    "    # slice randoms\n",
    "    Nran = int(50*len(data))\n",
    "    rnd = rnd[np.random.randint(len(rnd), size=Nran)]\n",
    "\n",
    "    print('Setup Patches')\n",
    "    labels = np.array(data['labels'])\n",
    "    groups = np.unique(labels)\n",
    "    n_patches = groups.size\n",
    "\n",
    "    datas   = [data[data['labels']!=k] for k in groups]\n",
    "    randoms = [rnd[rnd['labels']!=k] for k in groups]\n",
    "\n",
    "    # setup file system\n",
    "    tag = \"mock_z%i\"%z_bin\n",
    "    fl = SetupFiles(tag, n_patches, root=path)\n",
    "    # create tmp files\n",
    "    files1, files2 = fl.write_tmp_files(datas, randoms, \"mock_z%i\"%z_bin, n_patches)\n",
    "    # set output files\n",
    "    outfiles = [fl.tmp_fname_base.format(k) for k in range(n_patches)]\n",
    "    print(\"outfiles:\",outfiles[0])\n",
    "    print(\"infile:\",files1[0])\n",
    "    print(\"random:\",files2[0])\n",
    "    print()"
   ]
  },
  {
   "cell_type": "code",
   "execution_count": 142,
   "id": "22b36526-f2d1-4336-9555-9d41d204a73d",
   "metadata": {},
   "outputs": [
    {
     "name": "stdout",
     "output_type": "stream",
     "text": [
      "Redshift bin: 0\n",
      "Setup Patches\n",
      "outfiles: /global/cfs/cdirs/des/jesteves/data/buzzard/v1.9.8/y3_rm/nbody_output/xi_mock_z0_k000\n",
      "infile: /global/cfs/cdirs/des/jesteves/data/buzzard/v1.9.8/y3_rm/nbody_output/tmp/data_mock_z0_k0.fits\n",
      "random: /global/cfs/cdirs/des/jesteves/data/buzzard/v1.9.8/y3_rm/nbody_output/tmp/rnd_mock_z0_k0.fits\n",
      "\n",
      "Redshift bin: 1\n",
      "Setup Patches\n",
      "outfiles: /global/cfs/cdirs/des/jesteves/data/buzzard/v1.9.8/y3_rm/nbody_output/xi_mock_z1_k000\n",
      "infile: /global/cfs/cdirs/des/jesteves/data/buzzard/v1.9.8/y3_rm/nbody_output/tmp/data_mock_z1_k0.fits\n",
      "random: /global/cfs/cdirs/des/jesteves/data/buzzard/v1.9.8/y3_rm/nbody_output/tmp/rnd_mock_z1_k0.fits\n",
      "\n",
      "Redshift bin: 2\n",
      "Setup Patches\n",
      "outfiles: /global/cfs/cdirs/des/jesteves/data/buzzard/v1.9.8/y3_rm/nbody_output/xi_mock_z2_k000\n",
      "infile: /global/cfs/cdirs/des/jesteves/data/buzzard/v1.9.8/y3_rm/nbody_output/tmp/data_mock_z2_k0.fits\n",
      "random: /global/cfs/cdirs/des/jesteves/data/buzzard/v1.9.8/y3_rm/nbody_output/tmp/rnd_mock_z2_k0.fits\n",
      "\n"
     ]
    }
   ],
   "source": [
    "for i in range(3):\n",
    "    make_data(i)"
   ]
  },
  {
   "cell_type": "code",
   "execution_count": 140,
   "id": "0f34dece-bfef-4975-991c-2e30955fa42c",
   "metadata": {},
   "outputs": [],
   "source": [
    "f1 = fname_base%('data', 0, 0)\n",
    "f2 = fname_base%('rnd', 0, 0)\n",
    "\n",
    "d1 = Table(getdata(f1))\n",
    "r1 = Table(getdata(f2))"
   ]
  },
  {
   "cell_type": "code",
   "execution_count": 143,
   "id": "e3fda9b3-7c07-4b40-b62f-f9fb4c14170f",
   "metadata": {},
   "outputs": [],
   "source": [
    "# !ls -lth /global/cfs/cdirs/des/jesteves/data/buzzard/v1.9.8/y3_rm/nbody_output/tmp/*"
   ]
  },
  {
   "cell_type": "code",
   "execution_count": null,
   "id": "0bdf636b-a215-4579-b77a-618a12593aff",
   "metadata": {},
   "outputs": [],
   "source": []
  },
  {
   "cell_type": "code",
   "execution_count": 9,
   "id": "02f5241d-af0c-4825-ac02-2439b1558b99",
   "metadata": {},
   "outputs": [],
   "source": [
    "out_base = fname_base%('xi', 0, 0)"
   ]
  },
  {
   "cell_type": "code",
   "execution_count": 10,
   "id": "3a81fa48-4cd4-4630-bae9-682a4028b865",
   "metadata": {},
   "outputs": [
    {
     "data": {
      "text/plain": [
       "'/global/cfs/cdirs/des/jesteves/data/buzzard/v1.9.8/y3_rm/nbody_output/tmp/xi_mock_z0_k0.fits'"
      ]
     },
     "execution_count": 10,
     "metadata": {},
     "output_type": "execute_result"
    }
   ],
   "source": [
    "out_base"
   ]
  },
  {
   "cell_type": "markdown",
   "id": "1894199f-d782-45e8-bd31-c716b1badf2f",
   "metadata": {},
   "source": [
    "## Join Output"
   ]
  },
  {
   "cell_type": "code",
   "execution_count": 144,
   "id": "7fa0418b-3f78-4188-b215-7778887fcb89",
   "metadata": {},
   "outputs": [],
   "source": [
    "def get_jk_cov(jk_stats,npatches):\n",
    "    \"\"\"\n",
    "    Get JackKnife covariance and error bar. \n",
    " \n",
    "    Args:\n",
    "        jk_stats (array): array with the statistics computed for each JK patch\n",
    "        npatches (float): number of JK patches \n",
    "    \"\"\"\n",
    "    mean  = np.mean(jk_stats, axis =0)\n",
    "    cov_jk  = np.sum((jk_stats - mean[None, :])[:, :, None] *\n",
    "                 (jk_stats - mean[None, :])[:, None, :], axis=0)\n",
    "    cov_jk *= ((npatches - 1.)/npatches)  \n",
    "    sig_jk  = np.sqrt(np.diag(cov_jk))\n",
    "    return cov_jk, sig_jk, mean\n",
    "\n",
    "def joinFiles(files):\n",
    "    r = np.load(files[0])['r']\n",
    "    vec = [np.load(file)['mean'] for file in files]\n",
    "    return r, np.array(vec)"
   ]
  },
  {
   "cell_type": "code",
   "execution_count": 145,
   "id": "840d5954-1c1d-4088-af34-5414dc6fe853",
   "metadata": {},
   "outputs": [
    {
     "data": {
      "text/plain": [
       "['/global/cfs/cdirs/des/jesteves/data/buzzard/v1.9.8/y3_rm/nbody_output/tmp/xi_mock_z0_k5.npz',\n",
       " '/global/cfs/cdirs/des/jesteves/data/buzzard/v1.9.8/y3_rm/nbody_output/tmp/xi_mock_z0_k2.npz',\n",
       " '/global/cfs/cdirs/des/jesteves/data/buzzard/v1.9.8/y3_rm/nbody_output/tmp/xi_mock_z0_k9.npz',\n",
       " '/global/cfs/cdirs/des/jesteves/data/buzzard/v1.9.8/y3_rm/nbody_output/tmp/xi_mock_z0_k8.npz',\n",
       " '/global/cfs/cdirs/des/jesteves/data/buzzard/v1.9.8/y3_rm/nbody_output/tmp/xi_mock_z0_k3.npz',\n",
       " '/global/cfs/cdirs/des/jesteves/data/buzzard/v1.9.8/y3_rm/nbody_output/tmp/xi_mock_z0_k1.npz',\n",
       " '/global/cfs/cdirs/des/jesteves/data/buzzard/v1.9.8/y3_rm/nbody_output/tmp/xi_mock_z0_k4.npz',\n",
       " '/global/cfs/cdirs/des/jesteves/data/buzzard/v1.9.8/y3_rm/nbody_output/tmp/xi_mock_z0_k7.npz',\n",
       " '/global/cfs/cdirs/des/jesteves/data/buzzard/v1.9.8/y3_rm/nbody_output/tmp/xi_mock_z0_k6.npz',\n",
       " '/global/cfs/cdirs/des/jesteves/data/buzzard/v1.9.8/y3_rm/nbody_output/tmp/xi_mock_z0_k0.npz']"
      ]
     },
     "execution_count": 145,
     "metadata": {},
     "output_type": "execute_result"
    }
   ],
   "source": [
    "from fileLoc import FileLocs\n",
    "import glob\n",
    "\n",
    "floc = FileLocs(machine='nersc')\n",
    "path = floc.halo_run_loc\n",
    "z_bin=0\n",
    "fname_base = path+'nbody_output/tmp/%s_mock_z%i'\n",
    "outfiles = glob.glob(fname_base%('xi', z_bin)+\"_k*\")\n",
    "outfiles\n"
   ]
  },
  {
   "cell_type": "code",
   "execution_count": 151,
   "id": "883e138f-7d9f-4b07-99a8-e4a7991362ea",
   "metadata": {},
   "outputs": [],
   "source": [
    "n_patches = len(outfiles)\n",
    "r, vec = joinFiles(outfiles)\n",
    "cov, sig, mean = get_jk_cov(vec, n_patches)"
   ]
  },
  {
   "cell_type": "code",
   "execution_count": 156,
   "id": "c7471717-ee82-42e4-81f9-79231d5ade22",
   "metadata": {},
   "outputs": [
    {
     "name": "stdout",
     "output_type": "stream",
     "text": [
      "/global/cfs/cdirs/des/jesteves/data/buzzard/v1.9.8/y3_rm/nbody_output/xi_z2_all\n"
     ]
    }
   ],
   "source": [
    "!ls /global/cfs/cdirs/des/jesteves/data/buzzard/v1.9.8/y3_rm/nbody_output/xi_z2_all"
   ]
  },
  {
   "cell_type": "code",
   "execution_count": null,
   "id": "a49b9912-5ee6-4d85-bef7-e5a2e971aba4",
   "metadata": {},
   "outputs": [],
   "source": [
    "fname = '/global/cfs/cdirs/des/jesteves/data/buzzard/v1.9.8/y3_rm/nbody_output/xi_z2_all'\n"
   ]
  },
  {
   "cell_type": "code",
   "execution_count": 153,
   "id": "b24ee67b-e856-4ab8-8fc6-0b1b8a17f364",
   "metadata": {},
   "outputs": [
    {
     "data": {
      "image/png": "[encoded data removed]",
      "text/plain": [
       "<Figure size 640x480 with 1 Axes>"
      ]
     },
     "metadata": {},
     "output_type": "display_data"
    }
   ],
   "source": [
    "import matplotlib.pyplot as plt\n",
    "plt.xscale('log')\n",
    "for i in range(10):\n",
    "    plt.loglog()\n",
    "    plt.scatter(r, vec[i], s=10)\n",
    "    #plt.errorbar(r, vec[i], yerr=sig)"
   ]
  },
  {
   "cell_type": "code",
   "execution_count": 154,
   "id": "f3c4e665-8046-4aac-ba25-0ef133127ac3",
   "metadata": {},
   "outputs": [
    {
     "data": {
      "text/plain": [
       "[<matplotlib.lines.Line2D at 0x14d1e68e3690>]"
      ]
     },
     "execution_count": 154,
     "metadata": {},
     "output_type": "execute_result"
    },
    {
     "data": {
      "image/png": "[encoded data removed]",
      "text/plain": [
       "<Figure size 640x480 with 1 Axes>"
      ]
     },
     "metadata": {},
     "output_type": "display_data"
    }
   ],
   "source": [
    "plt.loglog()\n",
    "plt.plot(r, sig/mean)"
   ]
  },
  {
   "cell_type": "code",
   "execution_count": 155,
   "id": "66b340a5-b2e0-4402-b1b6-4a45ffdf8d70",
   "metadata": {},
   "outputs": [
    {
     "data": {
      "text/plain": [
       "<matplotlib.colorbar.Colorbar at 0x14d1e703e510>"
      ]
     },
     "execution_count": 155,
     "metadata": {},
     "output_type": "execute_result"
    },
    {
     "data": {
      "image/png": "[encoded data removed]",
      "text/plain": [
       "<Figure size 640x480 with 2 Axes>"
      ]
     },
     "metadata": {},
     "output_type": "display_data"
    }
   ],
   "source": [
    "plt.imshow(np.corrcoef(cov),origin='lower')\n",
    "plt.colorbar()"
   ]
  },
  {
   "cell_type": "code",
   "execution_count": null,
   "id": "78b0b30e-8513-4753-ba62-5938964235c7",
   "metadata": {},
   "outputs": [],
   "source": []
  },
  {
   "cell_type": "markdown",
   "id": "3e8beb53-11d8-46fe-a05d-e37445eb6420",
   "metadata": {
    "tags": []
   },
   "source": [
    "### Check Current Files"
   ]
  },
  {
   "cell_type": "code",
   "execution_count": 100,
   "id": "ba6d6e5d-8bf6-417c-a1ff-19ac3ebe1808",
   "metadata": {},
   "outputs": [
    {
     "data": {
      "text/plain": [
       "['/global/cfs/cdirs/des/jesteves/data/buzzard/v1.9.8/y3_rm/data_0.fits',\n",
       " '/global/cfs/cdirs/des/jesteves/data/buzzard/v1.9.8/y3_rm/data_1.fits',\n",
       " '/global/cfs/cdirs/des/jesteves/data/buzzard/v1.9.8/y3_rm/data_2.fits']"
      ]
     },
     "execution_count": 100,
     "metadata": {},
     "output_type": "execute_result"
    }
   ],
   "source": [
    "files = [floc.halo_run_loc+'data_%i.fits'%i for i in range(3)]\n",
    "files"
   ]
  },
  {
   "cell_type": "code",
   "execution_count": 101,
   "id": "949ae959-b3fe-439f-b0fa-6da5492dd8c8",
   "metadata": {},
   "outputs": [
    {
     "data": {
      "text/plain": [
       "['/global/cfs/cdirs/des/jesteves/data/buzzard/v1.9.8/y3_rm/rnd_0.fits',\n",
       " '/global/cfs/cdirs/des/jesteves/data/buzzard/v1.9.8/y3_rm/rnd_1.fits',\n",
       " '/global/cfs/cdirs/des/jesteves/data/buzzard/v1.9.8/y3_rm/rnd_2.fits']"
      ]
     },
     "execution_count": 101,
     "metadata": {},
     "output_type": "execute_result"
    }
   ],
   "source": [
    "files_rnd = [floc.halo_run_loc+'rnd_%i.fits'%i for i in range(3)]\n",
    "files_rnd"
   ]
  },
  {
   "cell_type": "code",
   "execution_count": 10,
   "id": "8a84ea93-9b1b-4bca-82c6-dd1cdac43632",
   "metadata": {},
   "outputs": [
    {
     "data": {
      "text/html": [
       "<div><i>Table length=42071</i>\n",
       "<table id=\"table23060293542672\" class=\"table-striped table-bordered table-condensed\">\n",
       "<thead><tr><th>FKPWeight</th><th>NZ</th><th>Position [3]</th><th>Selection</th><th>Value</th><th>Weight</th><th>dec</th><th>lambda_mor</th><th>ra</th><th>z</th><th>labels</th></tr></thead>\n",
       "<thead><tr><th>float64</th><th>float64</th><th>float64</th><th>bool</th><th>float64</th><th>float64</th><th>float64</th><th>float64</th><th>float64</th><th>float64</th><th>int64</th></tr></thead>\n",
       "<tr><td>0.8480960924749683</td><td>1.7911167009593917e-05</td><td>340.7146816135973 .. -508.91163620711916</td><td>True</td><td>1.0</td><td>1.0</td><td>-42.0517754044981</td><td>10.062862533601052</td><td>307.15073025389347</td><td>0.27058446407318115</td><td>0</td></tr>\n",
       "<tr><td>0.8476666538498514</td><td>1.7970902294940548e-05</td><td>341.44215990677503 .. -508.571399728615</td><td>True</td><td>1.0</td><td>1.0</td><td>-42.05313550692125</td><td>19.507735487705173</td><td>307.27470671757794</td><td>0.27038249373435974</td><td>0</td></tr>\n",
       "<tr><td>0.8389328861266531</td><td>1.9199046376283158e-05</td><td>354.5415502114185 .. -475.2771108507036</td><td>True</td><td>1.0</td><td>1.0</td><td>-39.82394748123761</td><td>11.91423018521523</td><td>308.4656671879389</td><td>0.263835608959198</td><td>0</td></tr>\n",
       "<tr><td>0.8448775053789793</td><td>1.8360353262268325e-05</td><td>346.63950707136763 .. -497.21834570585213</td><td>True</td><td>1.0</td><td>1.0</td><td>-41.11823254776729</td><td>8.228792588562362</td><td>307.4854577332952</td><td>0.2691691219806671</td><td>0</td></tr>\n",
       "<tr><td>0.8447270419782714</td><td>1.8381435695262443e-05</td><td>348.3227077942536 .. -489.28736440054325</td><td>True</td><td>1.0</td><td>1.0</td><td>-40.33704591404569</td><td>11.819979785014675</td><td>307.19468371746234</td><td>0.2690989375114441</td><td>0</td></tr>\n",
       "<tr><td>0.849822922959816</td><td>1.7671572863336975e-05</td><td>345.07770341878853 .. -508.305109883491</td><td>True</td><td>1.0</td><td>1.0</td><td>-41.77310834257179</td><td>6.943331940272871</td><td>307.3307214637057</td><td>0.27181583642959595</td><td>0</td></tr>\n",
       "<tr><td>0.8479407371147144</td><td>1.7932770089888265e-05</td><td>344.09183188298726 .. -510.2824977769061</td><td>True</td><td>1.0</td><td>1.0</td><td>-42.204481198765336</td><td>7.03158254099195</td><td>307.7001301727229</td><td>0.27050986886024475</td><td>0</td></tr>\n",
       "<tr><td>0.8399686102494356</td><td>1.9052067874660434e-05</td><td>345.85617075629887 .. -492.32735428582123</td><td>True</td><td>1.0</td><td>1.0</td><td>-41.334996588504595</td><td>5.825115772027186</td><td>308.16405213047904</td><td>0.2650974988937378</td><td>0</td></tr>\n",
       "<tr><td>0.8416079904610335</td><td>1.882016465316581e-05</td><td>367.61702158699137 .. -552.5316928691108</td><td>True</td><td>1.0</td><td>1.0</td><td>-42.0608546881254</td><td>20.104353324388647</td><td>306.8948557714656</td><td>0.2956170439720154</td><td>0</td></tr>\n",
       "<tr><td>0.8419152573459653</td><td>1.8776799835220653e-05</td><td>369.4200053298228 .. -553.1220858140891</td><td>True</td><td>1.0</td><td>1.0</td><td>-42.037592111290536</td><td>12.143375501736957</td><td>307.0245474760688</td><td>0.29610320925712585</td><td>0</td></tr>\n",
       "<tr><td>...</td><td>...</td><td>...</td><td>...</td><td>...</td><td>...</td><td>...</td><td>...</td><td>...</td><td>...</td><td>...</td></tr>\n",
       "<tr><td>0.8434118848661097</td><td>1.8566031371344536e-05</td><td>362.35913766182966 .. -377.5061030473246</td><td>True</td><td>1.0</td><td>1.0</td><td>-25.286951929823033</td><td>5.859681993819785</td><td>63.03385062034484</td><td>0.31865406036376953</td><td>6</td></tr>\n",
       "<tr><td>0.8453789528821232</td><td>1.8290146281822172e-05</td><td>359.6648663941766 .. -368.0104459669119</td><td>True</td><td>1.0</td><td>1.0</td><td>-24.909587442153068</td><td>11.964802057407626</td><td>63.008599623195195</td><td>0.31471678614616394</td><td>6</td></tr>\n",
       "<tr><td>0.8430619460509206</td><td>1.8615245852835656e-05</td><td>371.4866087571319 .. -385.8007081692304</td><td>True</td><td>1.0</td><td>1.0</td><td>-26.05267826805364</td><td>6.682028294313924</td><td>61.91811449673352</td><td>0.3165518641471863</td><td>9</td></tr>\n",
       "<tr><td>0.8433276659951483</td><td>1.8577871961543492e-05</td><td>350.06960260540677 .. -369.1452440512608</td><td>True</td><td>1.0</td><td>1.0</td><td>-24.884096227709463</td><td>5.719112159009091</td><td>63.90391374506777</td><td>0.31610339879989624</td><td>6</td></tr>\n",
       "<tr><td>0.8431998052407177</td><td>1.859585281978555e-05</td><td>350.12787051339825 .. -389.503978314139</td><td>True</td><td>1.0</td><td>1.0</td><td>-26.17632937294526</td><td>7.335666021899007</td><td>63.77764420783668</td><td>0.31833329796791077</td><td>6</td></tr>\n",
       "<tr><td>0.8460155393445326</td><td>1.8201138571848217e-05</td><td>368.1102342777658 .. -367.0772142948548</td><td>True</td><td>1.0</td><td>1.0</td><td>-24.44710279051891</td><td>8.033825283885</td><td>62.87771559239868</td><td>0.3199121654033661</td><td>6</td></tr>\n",
       "<tr><td>0.8447552464723876</td><td>1.8377483203081446e-05</td><td>375.53375961553036 .. -378.9114734634242</td><td>True</td><td>1.0</td><td>1.0</td><td>-25.672758471156556</td><td>6.644379823992141</td><td>61.5496438177802</td><td>0.3150593936443329</td><td>9</td></tr>\n",
       "<tr><td>0.8447306632520388</td><td>1.838092820618186e-05</td><td>339.18654076759145 .. -367.4194696278118</td><td>True</td><td>1.0</td><td>1.0</td><td>-24.503011513630142</td><td>7.340024785201483</td><td>65.11702119859717</td><td>0.31948980689048767</td><td>6</td></tr>\n",
       "<tr><td>0.8429659967700184</td><td>1.8628747046937445e-05</td><td>329.70888254944026 .. -752.8531592657909</td><td>True</td><td>1.0</td><td>1.0</td><td>-58.883796145495126</td><td>5.718899347962372</td><td>316.51271060668745</td><td>0.3169266879558563</td><td>0</td></tr>\n",
       "<tr><td>0.8429659967700184</td><td>1.8628747046937445e-05</td><td>361.36527965018337 .. -365.96927714563105</td><td>True</td><td>1.0</td><td>1.0</td><td>-24.592940998519353</td><td>5.451443317961853</td><td>63.13249248091727</td><td>0.3169266879558563</td><td>6</td></tr>\n",
       "</table></div>"
      ],
      "text/plain": [
       "<Table length=42071>\n",
       "    FKPWeight                NZ           ...          z          labels\n",
       "     float64              float64         ...       float64       int64 \n",
       "------------------ ---------------------- ... ------------------- ------\n",
       "0.8480960924749683 1.7911167009593917e-05 ... 0.27058446407318115      0\n",
       "0.8476666538498514 1.7970902294940548e-05 ... 0.27038249373435974      0\n",
       "0.8389328861266531 1.9199046376283158e-05 ...   0.263835608959198      0\n",
       "0.8448775053789793 1.8360353262268325e-05 ...  0.2691691219806671      0\n",
       "0.8447270419782714 1.8381435695262443e-05 ...  0.2690989375114441      0\n",
       " 0.849822922959816 1.7671572863336975e-05 ... 0.27181583642959595      0\n",
       "0.8479407371147144 1.7932770089888265e-05 ... 0.27050986886024475      0\n",
       "0.8399686102494356 1.9052067874660434e-05 ...  0.2650974988937378      0\n",
       "0.8416079904610335  1.882016465316581e-05 ...  0.2956170439720154      0\n",
       "0.8419152573459653 1.8776799835220653e-05 ... 0.29610320925712585      0\n",
       "               ...                    ... ...                 ...    ...\n",
       "0.8434118848661097 1.8566031371344536e-05 ... 0.31865406036376953      6\n",
       "0.8453789528821232 1.8290146281822172e-05 ... 0.31471678614616394      6\n",
       "0.8430619460509206 1.8615245852835656e-05 ...  0.3165518641471863      9\n",
       "0.8433276659951483 1.8577871961543492e-05 ... 0.31610339879989624      6\n",
       "0.8431998052407177  1.859585281978555e-05 ... 0.31833329796791077      6\n",
       "0.8460155393445326 1.8201138571848217e-05 ...  0.3199121654033661      6\n",
       "0.8447552464723876 1.8377483203081446e-05 ...  0.3150593936443329      9\n",
       "0.8447306632520388  1.838092820618186e-05 ... 0.31948980689048767      6\n",
       "0.8429659967700184 1.8628747046937445e-05 ...  0.3169266879558563      0\n",
       "0.8429659967700184 1.8628747046937445e-05 ...  0.3169266879558563      6"
      ]
     },
     "execution_count": 10,
     "metadata": {},
     "output_type": "execute_result"
    }
   ],
   "source": [
    "Table(getdata(files[0]))"
   ]
  },
  {
   "cell_type": "code",
   "execution_count": 32,
   "id": "384caef6-f3b8-40c4-8d89-02c6d4bff4a2",
   "metadata": {},
   "outputs": [
    {
     "data": {
      "text/plain": [
       "array([0, 1, 2, 3, 4, 5, 6, 7, 8, 9])"
      ]
     },
     "execution_count": 32,
     "metadata": {},
     "output_type": "execute_result"
    }
   ],
   "source": [
    "tmp = Table(getdata(files[2]))\n",
    "np.array(np.unique(tmp['labels']))"
   ]
  },
  {
   "cell_type": "code",
   "execution_count": 14,
   "id": "d9b03a8e-c7d3-4fb5-9aea-fa7458e81182",
   "metadata": {},
   "outputs": [
    {
     "data": {
      "text/plain": [
       "['/global/cfs/cdirs/des/jesteves/data/buzzard/v1.9.8/y3_rm/nbody_output/tmp/debug_data_7.fits',\n",
       " '/global/cfs/cdirs/des/jesteves/data/buzzard/v1.9.8/y3_rm/nbody_output/tmp/debug_data_6.fits',\n",
       " '/global/cfs/cdirs/des/jesteves/data/buzzard/v1.9.8/y3_rm/nbody_output/tmp/debug_data_3.fits',\n",
       " '/global/cfs/cdirs/des/jesteves/data/buzzard/v1.9.8/y3_rm/nbody_output/tmp/debug_data_4.fits',\n",
       " '/global/cfs/cdirs/des/jesteves/data/buzzard/v1.9.8/y3_rm/nbody_output/tmp/debug_data_0.fits',\n",
       " '/global/cfs/cdirs/des/jesteves/data/buzzard/v1.9.8/y3_rm/nbody_output/tmp/debug_data_8.fits',\n",
       " '/global/cfs/cdirs/des/jesteves/data/buzzard/v1.9.8/y3_rm/nbody_output/tmp/debug_data_2.fits',\n",
       " '/global/cfs/cdirs/des/jesteves/data/buzzard/v1.9.8/y3_rm/nbody_output/tmp/debug_data_9.fits',\n",
       " '/global/cfs/cdirs/des/jesteves/data/buzzard/v1.9.8/y3_rm/nbody_output/tmp/debug_data_1.fits',\n",
       " '/global/cfs/cdirs/des/jesteves/data/buzzard/v1.9.8/y3_rm/nbody_output/tmp/debug_data_5.fits']"
      ]
     },
     "execution_count": 14,
     "metadata": {},
     "output_type": "execute_result"
    }
   ],
   "source": [
    "import glob\n",
    "p1 = \"/global/cfs/cdirs/des/jesteves/data/buzzard/v1.9.8/y3_rm/nbody_output/tmp/\"\n",
    "files1 = glob.glob(p1+\"debug_data*\")\n",
    "files1"
   ]
  },
  {
   "cell_type": "code",
   "execution_count": 15,
   "id": "6321bdc4-0416-4807-aac8-752076046c77",
   "metadata": {},
   "outputs": [
    {
     "data": {
      "text/plain": [
       "['/global/cfs/cdirs/des/jesteves/data/buzzard/v1.9.8/y3_rm/nbody_output/tmp/debug_rnd_1.fits',\n",
       " '/global/cfs/cdirs/des/jesteves/data/buzzard/v1.9.8/y3_rm/nbody_output/tmp/debug_rnd_9.fits',\n",
       " '/global/cfs/cdirs/des/jesteves/data/buzzard/v1.9.8/y3_rm/nbody_output/tmp/debug_rnd_8.fits',\n",
       " '/global/cfs/cdirs/des/jesteves/data/buzzard/v1.9.8/y3_rm/nbody_output/tmp/debug_rnd_6.fits',\n",
       " '/global/cfs/cdirs/des/jesteves/data/buzzard/v1.9.8/y3_rm/nbody_output/tmp/debug_rnd_3.fits',\n",
       " '/global/cfs/cdirs/des/jesteves/data/buzzard/v1.9.8/y3_rm/nbody_output/tmp/debug_rnd_5.fits',\n",
       " '/global/cfs/cdirs/des/jesteves/data/buzzard/v1.9.8/y3_rm/nbody_output/tmp/debug_rnd_4.fits',\n",
       " '/global/cfs/cdirs/des/jesteves/data/buzzard/v1.9.8/y3_rm/nbody_output/tmp/debug_rnd_0.fits',\n",
       " '/global/cfs/cdirs/des/jesteves/data/buzzard/v1.9.8/y3_rm/nbody_output/tmp/debug_rnd_7.fits',\n",
       " '/global/cfs/cdirs/des/jesteves/data/buzzard/v1.9.8/y3_rm/nbody_output/tmp/debug_rnd_2.fits']"
      ]
     },
     "execution_count": 15,
     "metadata": {},
     "output_type": "execute_result"
    }
   ],
   "source": [
    "files2 = glob.glob(p1+\"debug_rnd*\")\n",
    "files2"
   ]
  },
  {
   "cell_type": "code",
   "execution_count": null,
   "id": "202869c9-a6e2-4433-9c77-5c0a238bc794",
   "metadata": {},
   "outputs": [],
   "source": []
  },
  {
   "cell_type": "markdown",
   "id": "41002748-3563-49d5-bb3e-9d2118b6d889",
   "metadata": {},
   "source": [
    "## Run Nbody"
   ]
  },
  {
   "cell_type": "code",
   "execution_count": 4,
   "id": "748a469a-111c-464c-be0d-009509ed4b7d",
   "metadata": {},
   "outputs": [],
   "source": [
    "z_bin = 0\n",
    "tag = \"debug\"\n",
    "path = floc.halo_run_loc"
   ]
  },
  {
   "cell_type": "code",
   "execution_count": 6,
   "id": "455c82ad-b4e3-459f-8d71-b194335c9425",
   "metadata": {},
   "outputs": [],
   "source": [
    "# print('Redshift bin: %i'%z_bin)\n",
    "# data = FITSCatalog(path+'data_%i.fits'%z_bin)\n",
    "# rnd = FITSCatalog(path+'rnd_%i.fits'%z_bin)\n",
    "\n",
    "# print('Setup Patches')\n",
    "# labels = np.array(data['labels'])\n",
    "# groups = np.unique(labels)\n",
    "# n_patches = groups.size\n",
    "\n",
    "# datas   = [data[data['labels']!=k] for k in groups]\n",
    "# randoms = [rnd[rnd['labels']!=k] for k in groups]\n"
   ]
  },
  {
   "cell_type": "code",
   "execution_count": 44,
   "id": "709b21bd-d0d5-4694-ad05-555aa8658c45",
   "metadata": {},
   "outputs": [
    {
     "data": {
      "text/plain": [
       "array([0, 1, 2, 3, 4, 5, 6, 7, 8, 9])"
      ]
     },
     "execution_count": 44,
     "metadata": {},
     "output_type": "execute_result"
    }
   ],
   "source": [
    "groups"
   ]
  },
  {
   "cell_type": "code",
   "execution_count": 45,
   "id": "22ffbd2b-a378-4d61-85dd-5c78a810aee8",
   "metadata": {},
   "outputs": [
    {
     "data": {
      "text/plain": [
       "10"
      ]
     },
     "execution_count": 45,
     "metadata": {},
     "output_type": "execute_result"
    }
   ],
   "source": [
    "n_patches"
   ]
  },
  {
   "cell_type": "code",
   "execution_count": 7,
   "id": "46983040-2328-488b-b053-f56e814dad85",
   "metadata": {},
   "outputs": [
    {
     "ename": "NameError",
     "evalue": "name 'SetupFiles' is not defined",
     "output_type": "error",
     "traceback": [
      "\u001b[0;31m---------------------------------------------------------------------------\u001b[0m",
      "\u001b[0;31mNameError\u001b[0m                                 Traceback (most recent call last)",
      "\u001b[0;32m/tmp/ipykernel_158147/3040762731.py\u001b[0m in \u001b[0;36m<module>\u001b[0;34m\u001b[0m\n\u001b[0;32m----> 1\u001b[0;31m \u001b[0mfl\u001b[0m \u001b[0;34m=\u001b[0m \u001b[0mSetupFiles\u001b[0m\u001b[0;34m(\u001b[0m\u001b[0mtag\u001b[0m\u001b[0;34m,\u001b[0m \u001b[0mn_patches\u001b[0m\u001b[0;34m)\u001b[0m\u001b[0;34m\u001b[0m\u001b[0;34m\u001b[0m\u001b[0m\n\u001b[0m\u001b[1;32m      2\u001b[0m \u001b[0moutfiles\u001b[0m \u001b[0;34m=\u001b[0m \u001b[0;34m[\u001b[0m\u001b[0mfl\u001b[0m\u001b[0;34m.\u001b[0m\u001b[0mtmp_fname_base\u001b[0m\u001b[0;34m.\u001b[0m\u001b[0mformat\u001b[0m\u001b[0;34m(\u001b[0m\u001b[0mk\u001b[0m\u001b[0;34m)\u001b[0m \u001b[0;32mfor\u001b[0m \u001b[0mk\u001b[0m \u001b[0;32min\u001b[0m \u001b[0mrange\u001b[0m\u001b[0;34m(\u001b[0m\u001b[0mn_patches\u001b[0m\u001b[0;34m)\u001b[0m\u001b[0;34m]\u001b[0m\u001b[0;34m\u001b[0m\u001b[0;34m\u001b[0m\u001b[0m\n\u001b[1;32m      3\u001b[0m \u001b[0moutfiles\u001b[0m\u001b[0;34m\u001b[0m\u001b[0;34m\u001b[0m\u001b[0m\n",
      "\u001b[0;31mNameError\u001b[0m: name 'SetupFiles' is not defined"
     ]
    }
   ],
   "source": [
    "fl = SetupFiles(tag, n_patches)\n",
    "outfiles = [fl.tmp_fname_base.format(k) for k in range(n_patches)]\n",
    "outfiles"
   ]
  },
  {
   "cell_type": "code",
   "execution_count": 48,
   "id": "9dac58e1-8ab7-4b99-85fb-78db72b2cd79",
   "metadata": {},
   "outputs": [
    {
     "name": "stdout",
     "output_type": "stream",
     "text": [
      "Correlation Function\n",
      "Group 0/10\n",
      "size: 37012\n",
      "./output/debug_jk_patches_00000.npy\n",
      "\n",
      "Group 1/10\n",
      "size: 40782\n",
      "./output/debug_jk_patches_00001.npy\n",
      "\n",
      "Group 2/10\n",
      "size: 37308\n",
      "./output/debug_jk_patches_00002.npy\n",
      "\n",
      "Group 3/10\n",
      "size: 36864\n",
      "./output/debug_jk_patches_00003.npy\n",
      "\n",
      "Group 4/10\n",
      "size: 39573\n",
      "./output/debug_jk_patches_00004.npy\n",
      "\n",
      "Group 5/10\n",
      "size: 37927\n",
      "./output/debug_jk_patches_00005.npy\n",
      "\n",
      "Group 6/10\n",
      "size: 38098\n",
      "./output/debug_jk_patches_00006.npy\n",
      "\n",
      "Group 7/10\n",
      "size: 36771\n",
      "./output/debug_jk_patches_00007.npy\n",
      "\n",
      "Group 8/10\n",
      "size: 37281\n",
      "./output/debug_jk_patches_00008.npy\n",
      "\n",
      "Group 9/10\n",
      "size: 37023\n",
      "./output/debug_jk_patches_00009.npy\n",
      "\n"
     ]
    }
   ],
   "source": [
    "print('Correlation Function')\n",
    "for k in range(n_patches):\n",
    "    print(\"Group %i/%i\"%(k, n_patches))\n",
    "    print(\"size:\", datas[k].csize)\n",
    "    print(outfiles[k])\n",
    "    print()\n"
   ]
  },
  {
   "cell_type": "code",
   "execution_count": null,
   "id": "b544dd86-f1ab-4d6e-8efc-df56b2552d17",
   "metadata": {},
   "outputs": [],
   "source": []
  },
  {
   "cell_type": "code",
   "execution_count": null,
   "id": "a8894bee-bf4b-4cc2-a224-4e32a95efca5",
   "metadata": {},
   "outputs": [],
   "source": []
  },
  {
   "cell_type": "code",
   "execution_count": null,
   "id": "c181e74c-99a8-414e-9317-c1797f7168f4",
   "metadata": {},
   "outputs": [],
   "source": []
  },
  {
   "cell_type": "markdown",
   "id": "80196d02-80f1-4e11-bf4d-13d118877bc8",
   "metadata": {},
   "source": [
    "## dEv File System"
   ]
  },
  {
   "cell_type": "code",
   "execution_count": 21,
   "id": "4795e712-1427-4dc4-bc3d-db2bf74f73ab",
   "metadata": {},
   "outputs": [],
   "source": [
    "from set_bins_files import SetupFiles\n",
    "tag = \"debug\"\n",
    "fl = SetupFiles(tag, n_patches)\n"
   ]
  },
  {
   "cell_type": "code",
   "execution_count": 25,
   "id": "f9d68766-5071-4f70-8273-426a2c5c0091",
   "metadata": {},
   "outputs": [],
   "source": [
    "outfiles = [fl.tmp_fname_base.format(k) for k in range(n_patches)]"
   ]
  },
  {
   "cell_type": "code",
   "execution_count": 27,
   "id": "0fb96066-453e-4fd3-ae96-538c45d855e2",
   "metadata": {},
   "outputs": [
    {
     "data": {
      "text/plain": [
       "['./output/debug_jk_patches_00000.npy',\n",
       " './output/debug_jk_patches_00001.npy',\n",
       " './output/debug_jk_patches_00002.npy',\n",
       " './output/debug_jk_patches_00003.npy',\n",
       " './output/debug_jk_patches_00004.npy',\n",
       " './output/debug_jk_patches_00005.npy',\n",
       " './output/debug_jk_patches_00006.npy',\n",
       " './output/debug_jk_patches_00007.npy',\n",
       " './output/debug_jk_patches_00008.npy',\n",
       " './output/debug_jk_patches_00009.npy']"
      ]
     },
     "execution_count": 27,
     "metadata": {},
     "output_type": "execute_result"
    }
   ],
   "source": [
    "outfiles"
   ]
  },
  {
   "cell_type": "code",
   "execution_count": 49,
   "id": "3d6aaf90-022c-4cfc-8d52-ea169d878bd8",
   "metadata": {},
   "outputs": [],
   "source": [
    "import os "
   ]
  },
  {
   "cell_type": "code",
   "execution_count": 53,
   "id": "818c8317-39d9-4930-b59e-da81b303a4da",
   "metadata": {},
   "outputs": [
    {
     "data": {
      "text/plain": [
       "True"
      ]
     },
     "execution_count": 53,
     "metadata": {},
     "output_type": "execute_result"
    }
   ],
   "source": [
    "os.path.isdir('/global/cfs/cdirs/des/jesteves/data/buzzard/v1.9.8/y3_rm/output/kmeans10/')"
   ]
  },
  {
   "cell_type": "markdown",
   "id": "7c96648f-b51c-404b-8154-aa3ec56cc7e9",
   "metadata": {
    "tags": []
   },
   "source": [
    "## Generate Data/Random Files"
   ]
  },
  {
   "cell_type": "code",
   "execution_count": 16,
   "id": "c4a92cc6-e3de-44cd-b309-6c0e4cef800b",
   "metadata": {},
   "outputs": [
    {
     "ename": "NameError",
     "evalue": "name 'cosmology' is not defined",
     "output_type": "error",
     "traceback": [
      "\u001b[0;31m---------------------------------------------------------------------------\u001b[0m",
      "\u001b[0;31mNameError\u001b[0m                                 Traceback (most recent call last)",
      "\u001b[0;32m/tmp/ipykernel_158147/2429222413.py\u001b[0m in \u001b[0;36m<module>\u001b[0;34m\u001b[0m\n\u001b[1;32m      1\u001b[0m \u001b[0;31m# read files\u001b[0m\u001b[0;34m\u001b[0m\u001b[0;34m\u001b[0m\u001b[0;34m\u001b[0m\u001b[0m\n\u001b[0;32m----> 2\u001b[0;31m \u001b[0mcosmo\u001b[0m \u001b[0;34m=\u001b[0m \u001b[0mcosmology\u001b[0m\u001b[0;34m.\u001b[0m\u001b[0mCosmology\u001b[0m\u001b[0;34m(\u001b[0m\u001b[0mh\u001b[0m\u001b[0;34m=\u001b[0m\u001b[0;36m0.7\u001b[0m\u001b[0;34m)\u001b[0m\u001b[0;34m.\u001b[0m\u001b[0mmatch\u001b[0m\u001b[0;34m(\u001b[0m\u001b[0mOmega0_m\u001b[0m\u001b[0;34m=\u001b[0m\u001b[0;36m0.3\u001b[0m\u001b[0;34m)\u001b[0m\u001b[0;34m\u001b[0m\u001b[0;34m\u001b[0m\u001b[0m\n\u001b[0m\u001b[1;32m      3\u001b[0m \u001b[0mprint\u001b[0m\u001b[0;34m(\u001b[0m\u001b[0;34m'halo file name: %s'\u001b[0m\u001b[0;34m%\u001b[0m\u001b[0mfloc\u001b[0m\u001b[0;34m.\u001b[0m\u001b[0mmock_nbody_fname\u001b[0m\u001b[0;34m)\u001b[0m\u001b[0;34m\u001b[0m\u001b[0;34m\u001b[0m\u001b[0m\n\u001b[1;32m      4\u001b[0m \u001b[0mdata\u001b[0m \u001b[0;34m=\u001b[0m \u001b[0mFITSCatalog\u001b[0m\u001b[0;34m(\u001b[0m\u001b[0mfloc\u001b[0m\u001b[0;34m.\u001b[0m\u001b[0mmock_nbody_fname\u001b[0m\u001b[0;34m)\u001b[0m\u001b[0;34m\u001b[0m\u001b[0;34m\u001b[0m\u001b[0m\n\u001b[1;32m      5\u001b[0m \u001b[0;34m\u001b[0m\u001b[0m\n",
      "\u001b[0;31mNameError\u001b[0m: name 'cosmology' is not defined"
     ]
    }
   ],
   "source": [
    "# read files\n",
    "cosmo = cosmology.Cosmology(h=0.7).match(Omega0_m=0.3)\n",
    "print('halo file name: %s'%floc.mock_nbody_fname)\n",
    "data = FITSCatalog(floc.mock_nbody_fname)\n",
    "\n",
    "print('Random file name: %s'%floc.mock_random_fname)\n",
    "randoms = FITSCatalog(floc.mock_random_fname)\n",
    "\n"
   ]
  },
  {
   "cell_type": "code",
   "execution_count": 5,
   "id": "e3dfa855-b681-474d-8331-bed58c5d5169",
   "metadata": {},
   "outputs": [],
   "source": [
    "# add Cartesian position column\n",
    "data['Position'] = transform.SkyToCartesian(data['ra'], data['dec'], data['z'], cosmo=cosmo)\n",
    "randoms['Position'] = transform.SkyToCartesian(randoms['ra'], randoms['dec'], randoms['z'], cosmo=cosmo)\n"
   ]
  },
  {
   "cell_type": "code",
   "execution_count": 6,
   "id": "57f73148-04ef-4186-9a02-6938f7d8e002",
   "metadata": {},
   "outputs": [],
   "source": [
    "# Make FKP weighting\n",
    "from scipy.interpolate import InterpolatedUnivariateSpline\n",
    "# the sky fraction, used to compute volume in n(z)\n",
    "FSKY = 1. # a made-up value\n",
    "zhist = RedshiftHistogram(randoms, FSKY, cosmo, redshift='z')\n",
    "alpha = 1.0 * data.csize / randoms.csize\n",
    "nofz = InterpolatedUnivariateSpline(zhist.bin_centers, alpha*zhist.nbar)\n",
    "\n",
    "# add the n(z) columns to the FKPCatalog\n",
    "randoms['NZ'] = nofz(randoms['z'])\n",
    "data['NZ'] = nofz(data['z'])\n",
    "\n",
    "data['FKPWeight'] = 1.0 / (1 + data['NZ'] * 1e4)\n",
    "randoms['FKPWeight'] = 1.0 / (1 + randoms['NZ'] * 1e4)\n"
   ]
  },
  {
   "cell_type": "code",
   "execution_count": 7,
   "id": "43d0aa76-2242-40f9-a181-04d45f05c65c",
   "metadata": {},
   "outputs": [],
   "source": [
    "def redshift_slice(jointCat, zmin, zmax):\n",
    "    datas = []\n",
    "    for cat in jointCat:\n",
    "        mask = (cat['z']>=zmin)&(cat['z']<zmax)\n",
    "        datas.append(cat[mask].copy())\n",
    "    return datas\n",
    "\n",
    "# bins\n",
    "zbins = np.array([0.2, 0.32, 0.373, 0.51, 0.65])\n",
    "zmin_list = np.array([0.2, 0.373, 0.51])\n",
    "zmax_list = np.array([0.32, 0.51, 0.64])\n",
    "zmeans = np.array([0.25, 0.44, 0.575])"
   ]
  },
  {
   "cell_type": "code",
   "execution_count": 8,
   "id": "d409b7c2-7c20-4e70-9d1b-51a76c6f4a35",
   "metadata": {},
   "outputs": [],
   "source": [
    "def dask_to_table(cat):\n",
    "    out = Table()\n",
    "    columns = list(cat.columns)\n",
    "    for col in columns:\n",
    "        out[col] = np.array(cat[col])\n",
    "    return out\n",
    "\n",
    "def get_labels(data, random, n_patches=10):\n",
    "    import treecorr\n",
    "    cat = treecorr.Catalog(ra=data['ra'], dec=data['dec'], ra_units='deg', dec_units='deg', npatch=n_patches)\n",
    "    labels = cat.patch\n",
    "\n",
    "    rcat = treecorr.Catalog(ra=random['ra'], dec=random['ra'], ra_units='deg', dec_units='deg', patch_centers=cat.patch_centers)\n",
    "    labels_rnd = rcat.patch\n",
    "    \n",
    "    data['labels'] = labels\n",
    "    random['labels'] = labels_rnd\n",
    "    return data, random\n"
   ]
  },
  {
   "cell_type": "code",
   "execution_count": 17,
   "id": "4c5ed9a4-28ae-4369-8598-22ecb6b56c2a",
   "metadata": {},
   "outputs": [
    {
     "name": "stdout",
     "output_type": "stream",
     "text": [
      "redshift bin: 0.20 < z < 0.32\n",
      "redshift bin: 0.37 < z < 0.51\n",
      "redshift bin: 0.51 < z < 0.64\n"
     ]
    }
   ],
   "source": [
    "# i = 0\n",
    "# for zmin, zmax in zip(zmin_list, zmax_list):\n",
    "#     print('redshift bin: %.2f < z < %.2f'%(zmin, zmax))\n",
    "#     d, r = redshift_slice([data, randoms], zmin, zmax)\n",
    "#     tb1 = dask_to_table(d)\n",
    "#     tb2 = dask_to_table(r)\n",
    "#     tb1, tb2 = get_labels(tb1, tb2, n_patches=n_patches)\n",
    "    \n",
    "#     tb1.write(floc.halo_run_loc+'data_%i.fits'%i, overwrite=True)\n",
    "#     tb2.write(floc.halo_run_loc+'rnd_%i.fits'%i, overwrite=True)\n",
    "#     i+=1"
   ]
  },
  {
   "cell_type": "code",
   "execution_count": null,
   "id": "a2985fce-2290-4851-925b-56ba8eb896f4",
   "metadata": {},
   "outputs": [],
   "source": [
    "\n",
    "i = 0\n",
    "fname_base = floc.halo_run_loc+'nbody_output/cat/%s_z%i_k%i.fits'\n",
    "data = dask_to_table(data)\n",
    "randoms = dask_to_table(randoms)\n",
    "for zmin, zmax in zip(zmin_list, zmax_list):\n",
    "    print('redshift bin: %.2f < z < %.2f'%(zmin, zmax))\n",
    "    d, r = redshift_slice([data, randoms], zmin, zmax)\n",
    "    d, r = get_labels(d, r, n_patches=n_patches)\n",
    "    for k in n_patches:\n",
    "        fname = fname_base%(\"data\", i, k)\n",
    "        fname2 = fname_base%(\"random\", i, k)\n",
    "        dk = d[d['labels']!=k] \n",
    "        rk = r[r['labels']!=k] \n",
    "        dk.write(fname, overwrite=True)\n",
    "        rk.write(fname2, overwrite=True)\n",
    "\n",
    "    i+=1"
   ]
  },
  {
   "cell_type": "code",
   "execution_count": null,
   "id": "4e76ec45-c979-43b1-81f7-cee372b5f6e0",
   "metadata": {},
   "outputs": [],
   "source": []
  },
  {
   "cell_type": "code",
   "execution_count": 24,
   "id": "0ff24948-6c5c-4454-956d-efedb13829fc",
   "metadata": {},
   "outputs": [],
   "source": [
    "import treecorr\n",
    "n_patches = 10\n",
    "\n",
    "tmp = Table(getdata(files[2]))\n",
    "tmp2= Table(getdata(files_rnd[2]))\n",
    "\n",
    "ra = tmp['ra']\n",
    "dec = tmp['dec']\n",
    "\n",
    "cat = treecorr.Catalog(ra=tmp['ra'], dec=tmp['dec'], ra_units='deg', dec_units='deg', npatch=n_patches)\n",
    "labels = cat.patch\n",
    "\n",
    "rcat = treecorr.Catalog(ra=tmp2['ra'], dec=tmp2['ra'], ra_units='deg', dec_units='deg', patch_centers=cat.patch_centers)\n",
    "labels_rnd = rcat.patch\n"
   ]
  },
  {
   "cell_type": "code",
   "execution_count": 25,
   "id": "2569c424-85c3-49c2-bfe2-6fe46c11d4f2",
   "metadata": {},
   "outputs": [
    {
     "data": {
      "text/plain": [
       "array([4, 4, 4, ..., 4, 9, 1])"
      ]
     },
     "execution_count": 25,
     "metadata": {},
     "output_type": "execute_result"
    }
   ],
   "source": [
    "labels_rnd"
   ]
  },
  {
   "cell_type": "code",
   "execution_count": 26,
   "id": "d680906b-a837-4ac2-b62b-b2e102c47727",
   "metadata": {},
   "outputs": [
    {
     "data": {
      "text/plain": [
       "array([1, 1, 1, ..., 6, 6, 6])"
      ]
     },
     "execution_count": 26,
     "metadata": {},
     "output_type": "execute_result"
    }
   ],
   "source": [
    "labels"
   ]
  },
  {
   "cell_type": "code",
   "execution_count": 29,
   "id": "1ec37c63-0e60-4231-a2ca-7b427ac8bf72",
   "metadata": {},
   "outputs": [],
   "source": [
    "def get_labels(data, random, n_patches=10):\n",
    "    import treecorr\n",
    "    cat = treecorr.Catalog(ra=data['ra'], dec=data['dec'], ra_units='deg', dec_units='deg', npatch=n_patches)\n",
    "    labels = cat.patch\n",
    "\n",
    "    rcat = treecorr.Catalog(ra=random['ra'], dec=random['ra'], ra_units='deg', dec_units='deg', patch_centers=cat.patch_centers)\n",
    "    labels_rnd = rcat.patch\n",
    "    return labels, labels_rnd\n",
    "\n"
   ]
  },
  {
   "cell_type": "code",
   "execution_count": null,
   "id": "763bc5a0-d74b-436e-9437-90e3ddee7464",
   "metadata": {},
   "outputs": [],
   "source": []
  }
 ],
 "metadata": {
  "kernelspec": {
   "display_name": "nbodykit-env",
   "language": "python",
   "name": "nbodykit-env"
  },
  "language_info": {
   "codemirror_mode": {
    "name": "ipython",
    "version": 3
   },
   "file_extension": ".py",
   "mimetype": "text/x-python",
   "name": "python",
   "nbconvert_exporter": "python",
   "pygments_lexer": "ipython3",
   "version": "3.7.15"
  }
 },
 "nbformat": 4,
 "nbformat_minor": 5
}
