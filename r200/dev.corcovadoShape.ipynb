{
 "cells": [
  {
   "cell_type": "markdown",
   "id": "fa4f70fe",
   "metadata": {},
   "source": [
    "# Develop Corcovado Shape Estimator\n",
    "\n",
    "Research and development phase of a class to estimate shape of galaxy stellar mass cluster distribution.\n",
    "\n",
    " - 30 min Challenge: class and display function"
   ]
  },
  {
   "cell_type": "code",
   "execution_count": 1,
   "id": "60528d02",
   "metadata": {
    "ExecuteTime": {
     "end_time": "2022-10-25T05:05:30.169941Z",
     "start_time": "2022-10-25T05:05:28.090816Z"
    }
   },
   "outputs": [],
   "source": [
    "import matplotlib.pyplot as plt\n",
    "from astropy import units as u\n",
    "import numpy as np"
   ]
  },
  {
   "cell_type": "code",
   "execution_count": 2,
   "id": "0075f3b4",
   "metadata": {
    "ExecuteTime": {
     "end_time": "2022-10-25T05:05:30.914229Z",
     "start_time": "2022-10-25T05:05:30.172021Z"
    }
   },
   "outputs": [
    {
     "name": "stderr",
     "output_type": "stream",
     "text": [
      "<frozen importlib._bootstrap>:219: RuntimeWarning: scipy._lib.messagestream.MessageStream size changed, may indicate binary incompatibility. Expected 56 from C header, got 64 from PyObject\n"
     ]
    }
   ],
   "source": [
    "from astropy.cosmology import FlatLambdaCDM\n",
    "\n",
    "cosmo = FlatLambdaCDM(H0=70, Om0=0.283)\n",
    "Msol = 1.98847e33\n",
    "Mpc2cm = 3.086e+24\n",
    "z=0.1\n",
    "rhoc = cosmo.critical_density(z)"
   ]
  },
  {
   "cell_type": "code",
   "execution_count": 3,
   "id": "216f21c3",
   "metadata": {
    "ExecuteTime": {
     "end_time": "2022-10-25T05:05:30.925127Z",
     "start_time": "2022-10-25T05:05:30.915677Z"
    }
   },
   "outputs": [
    {
     "data": {
      "text/latex": [
       "$1.4873181 \\times 10^{11} \\; \\mathrm{\\frac{M_{\\odot}}{Mpc^{3}}}$"
      ],
      "text/plain": [
       "<Quantity 1.48731815e+11 solMass / Mpc3>"
      ]
     },
     "execution_count": 3,
     "metadata": {},
     "output_type": "execute_result"
    }
   ],
   "source": [
    "rhoc.to(u.Msun/u.Mpc**3)"
   ]
  },
  {
   "cell_type": "code",
   "execution_count": null,
   "id": "e0033567",
   "metadata": {},
   "outputs": [],
   "source": []
  },
  {
   "cell_type": "markdown",
   "id": "a80aaa00",
   "metadata": {},
   "source": [
    "## Develop Corcovado Shape Class"
   ]
  },
  {
   "cell_type": "code",
   "execution_count": null,
   "id": "2a8aa28c",
   "metadata": {
    "ExecuteTime": {
     "end_time": "2022-10-24T20:30:59.784976Z",
     "start_time": "2022-10-24T20:30:59.775147Z"
    }
   },
   "outputs": [],
   "source": []
  },
  {
   "cell_type": "code",
   "execution_count": 1016,
   "id": "b4c689d4",
   "metadata": {
    "ExecuteTime": {
     "end_time": "2022-10-25T08:24:03.400499Z",
     "start_time": "2022-10-25T08:24:03.365571Z"
    }
   },
   "outputs": [],
   "source": [
    "from halotools.empirical_models import PrebuiltHodModelFactory\n",
    "from scipy.integrate import simps\n",
    "import numpy as np\n",
    "\n",
    "from projector import radec_to_xy\n",
    "\n",
    "### Define Cosmology\n",
    "from astropy.cosmology import FlatLambdaCDM\n",
    "from astropy import units as u\n",
    "H0 = 70\n",
    "cosmo = FlatLambdaCDM(H0=H0, Om0=0.283)\n",
    "\n",
    "rad2deg = 180.0/np.pi\n",
    "\n",
    "class corcovadoShape:\n",
    "    \"\"\"This class estimates shape of a given stellar mass cluster distribution\n",
    "    \"\"\"\n",
    "    def __init__(self, coords=[0,0], z=0, sigma_bg=0) -> None:\n",
    "        \"\"\"__init__ Corcovado Shape Measurements Tools\n",
    "\n",
    "        Estimates the shape of a given stellar mass cluster distribution.\n",
    "\n",
    "        Parameters\n",
    "        ----------\n",
    "        coords : list, optional\n",
    "            ra, dec of the center of the distribution, by default [0,0]\n",
    "        z : int, optional\n",
    "            redshift of the cluster, by default 0\n",
    "        sigma_bg : int, optional\n",
    "            background density, by default 0\n",
    "        \"\"\"\n",
    "        self.coords = coords\n",
    "        self.z = z\n",
    "        self.sigma_bg = sigma_bg\n",
    "        self.angularDiameter= cosmo.luminosity_distance(z).value/(1+z**2) ## angular diamteter at redshift z\n",
    "        self.Mpc2theta = self.angularDiameter/rad2deg # conversion factor to degrees\n",
    "        \n",
    "        \n",
    "    def display(self, rmax=3, kind='points', save=False, ax=None):\n",
    "        \"\"\"display point density\n",
    "\n",
    "        Display cutout of the point distribution\n",
    "\n",
    "        Parameters\n",
    "        ----------\n",
    "        rmax : int, optional\n",
    "            max size of the box, by default 3\n",
    "        kind : str, optional\n",
    "            display can be only points or a colored kernel distribtuion, by default 'points'\n",
    "        \"\"\"\n",
    "        if ax is None: ax = plt.gca()\n",
    "        if kind=='points':\n",
    "            plot_points(self.dx_weights, self.dy_weights, rmax, save=save, ax=ax)\n",
    "        if kind=='kde':\n",
    "            plot_kde(self.dx_weights, self.dy_weights, rmax, save=save, ax=ax)\n",
    "            \n",
    "        pass\n",
    "    \n",
    "    def load_sky_coord(self, ra, dec, weights=None, norm_value=1/10):\n",
    "        \"\"\"load_sky_coord \n",
    "\n",
    "        Converts sky coordinates to physical coords system in Mpc\n",
    "\n",
    "        Parameters\n",
    "        ----------\n",
    "        ra : array\n",
    "            right ascension\n",
    "        dec : array\n",
    "            declination\n",
    "        weights : array, optional\n",
    "            weighted value for the point distribution, by default None\n",
    "            \n",
    "        Returns\n",
    "        ----------\n",
    "        dx : array\n",
    "            x offset from the center\n",
    "        dy : array\n",
    "            y offset from the center\n",
    "        \"\"\"\n",
    "        ra_center, dec_center = self.coords\n",
    "        \n",
    "        dx,dy,albers = radec_to_xy(ra, dec, ra_center, dec_center,\n",
    "                                   self.Mpc2theta) ## Mpc\n",
    "        # dx and dy in Mpc not Mpc/h\n",
    "        self.dx = np.array(dx)-np.average(dx,weights=weights)\n",
    "        self.dy = np.array(dy)-np.average(dy,weights=weights)\n",
    "        \n",
    "        if weights is not None:\n",
    "            self.weight_xy(weights, norm_value=norm_value)\n",
    "        pass\n",
    "    \n",
    "    def weight_xy(self, weights, norm_value=1/10):\n",
    "        \"\"\"add_weights\n",
    "\n",
    "        Weights xy quantities.\n",
    "        Repeats xy values n times the weights.\n",
    "        Solution proposed at stackOverflow: \n",
    "        https://stackoverflow.com/questions/11442962/python-package-that-supports-weighted-covariance-computation\n",
    "        \n",
    "        Parameters\n",
    "        ----------\n",
    "        weights : array\n",
    "            weights values to repeat the xy quantities.\n",
    "        \"\"\"\n",
    "        if not isinstance(np.sum(weights), int):\n",
    "            self.weights = np.array(weights/norm_value).astype(int)\n",
    "        \n",
    "        points = self.make_blobs()\n",
    "        self.dx_w = points[0]\n",
    "        self.dx_w = points[0]\n",
    "        self.points = points\n",
    "        \n",
    "        #self.dx_w = np.repeat(self.dx, self.weights, axis=0)\n",
    "        #self.dy_w = np.repeat(self.dy, self.weights, axis=0)\n",
    "    \n",
    "    def make_blobs(self):\n",
    "        xnew = np.zeros(np.sum(self.weights))\n",
    "        ynew = np.zeros(np.sum(self.weights))\n",
    "        ilow = 0\n",
    "        ihig = 0\n",
    "        for i in range(self.dx.size):\n",
    "            ihig += self.weights[i]\n",
    "            scale = (self.weights[i]/1000.)**(1.5)\n",
    "            xnew[ilow:ihig] = self.dx[i]+scale*np.random.normal(size=self.weights[i])\n",
    "            ynew[ilow:ihig] = self.dy[i]+scale*np.random.normal(size=self.weights[i])\n",
    "            ilow += self.weights[i]\n",
    "        \n",
    "        return np.vstack([xnew,ynew]).T\n",
    "        \n",
    "    def add_mask(self,mask):\n",
    "        self.mask = mask\n",
    "        self.mask_w = np.repeat(mask, self.weights, axis=0)\n",
    "        \n",
    "    def load(self, x, y, weights=None):\n",
    "        \"\"\"load dataset\n",
    "\n",
    "        load point distribution\n",
    "\n",
    "        Parameters\n",
    "        ----------\n",
    "        x : array\n",
    "            x-coordinates\n",
    "        y : array\n",
    "            y-coordiantes \n",
    "        weights : array, optional\n",
    "            weighted value for the point distribution, by default None\n",
    "        \"\"\"\n",
    "        pass\n",
    "    \n",
    "    def fit(self):\n",
    "        \"\"\"fit shape distribution\n",
    "\n",
    "        Uses the PCA to find the major and minor axis. \n",
    "        Converts the results to polar coordinates, eccentricity and position angle.\n",
    "        \"\"\"\n",
    "        pass\n",
    "    \n",
    "    def fit_outliers(self, **kwargs):\n",
    "        \"\"\"mask_outliers detection algorithm\n",
    "\n",
    "        Finds the outliers galaxies in the field. \n",
    "        Uses the LocalOutlierFactor function from sklearn.\n",
    "        For the key word arguments (kwargs) take a look at the documentation \n",
    "        https://scikit-learn.org/stable/modules/generated/sklearn.neighbors.LocalOutlierFactor.html#sklearn.neighbors.LocalOutlierFactor\n",
    "        \"\"\"\n",
    "    pass"
   ]
  },
  {
   "cell_type": "code",
   "execution_count": 1238,
   "id": "1bd69e8f",
   "metadata": {
    "ExecuteTime": {
     "end_time": "2022-10-25T08:38:23.918771Z",
     "start_time": "2022-10-25T08:38:23.904069Z"
    }
   },
   "outputs": [
    {
     "data": {
      "text/html": [
       "<div><i>Table length=219</i>\n",
       "<table id=\"table140158680333760\" class=\"table-striped table-bordered table-condensed\">\n",
       "<thead><tr><th>Yang</th><th>RA</th><th>DEC</th><th>redshift</th><th>N200</th><th>logM200c</th><th>logM200m</th><th>R200c</th><th>R200m</th><th>thetaR200</th><th>thetaR200m</th><th>vcirc_c</th><th>vcirc_m</th></tr></thead>\n",
       "<thead><tr><th>int64</th><th>float64</th><th>float64</th><th>float64</th><th>int64</th><th>float64</th><th>float64</th><th>float64</th><th>float64</th><th>float64</th><th>float64</th><th>float64</th><th>float64</th></tr></thead>\n",
       "<tr><td>374</td><td>245.7299</td><td>23.8919</td><td>0.06300000101327896</td><td>31</td><td>14.254902839660645</td><td>14.415224322724123</td><td>1.1428571939468384</td><td>1.5110330058868562</td><td>0.18295675929400199</td><td>0.24189698559587114</td><td>822.2749633789062</td><td>764.0497213265847</td></tr>\n",
       "<tr><td>222</td><td>242.8492</td><td>36.995</td><td>0.06700000166893005</td><td>23</td><td>14.254902839660645</td><td>14.414384873396846</td><td>1.1428571939468384</td><td>1.5043988031529953</td><td>0.17282760569637368</td><td>0.227501434376209</td><td>822.7521362304688</td><td>764.992822466246</td></tr>\n",
       "<tr><td>394</td><td>199.144</td><td>7.0911</td><td>0.04899999871850014</td><td>25</td><td>14.264901161193848</td><td>14.428359779693885</td><td>1.1571428775787354</td><td>1.5467147024595083</td><td>0.23434214488647112</td><td>0.3132374171412896</td><td>826.9444580078125</td><td>766.6924949865825</td></tr>\n",
       "<tr><td>310</td><td>160.312</td><td>33.8973</td><td>0.08299999684095383</td><td>24</td><td>14.264901161193848</td><td>14.421219464494552</td><td>1.1428571939468384</td><td>1.489968685594978</td><td>0.1420869109470273</td><td>0.18524191419067418</td><td>831.0362548828125</td><td>774.7606946857126</td></tr>\n",
       "<tr><td>371</td><td>181.3786</td><td>43.1855</td><td>0.05299999937415123</td><td>24</td><td>14.27490234375</td><td>14.4376686381423</td><td>1.1714285612106323</td><td>1.5518876726100725</td><td>0.2203518984997614</td><td>0.29191826650069036</td><td>833.792724609375</td><td>773.6608124290069</td></tr>\n",
       "<tr><td>295</td><td>131.8533</td><td>53.8186</td><td>0.04500000178813934</td><td>30</td><td>14.27490234375</td><td>14.439386085179251</td><td>1.1714285612106323</td><td>1.5658308504771477</td><td>0.25712247515759035</td><td>0.34369172588443175</td><td>832.8416137695312</td><td>771.7329432207382</td></tr>\n",
       "<tr><td>...</td><td>...</td><td>...</td><td>...</td><td>...</td><td>...</td><td>...</td><td>...</td><td>...</td><td>...</td><td>...</td><td>...</td><td>...</td></tr>\n",
       "<tr><td>26</td><td>258.2267</td><td>64.0514</td><td>0.08100000023841858</td><td>150</td><td>15.294901847839355</td><td>15.452727487036949</td><td>2.528571367263794</td><td>3.2947002574800357</td><td>0.32139699993550314</td><td>0.4187766965514693</td><td>1831.5782470703125</td><td>1708.4498092257656</td></tr>\n",
       "<tr><td>47</td><td>241.306</td><td>16.4602</td><td>0.04399999976158142</td><td>232</td><td>15.304902076721191</td><td>15.471677995199613</td><td>2.5714285373687744</td><td>3.461449033114817</td><td>0.5765699657760479</td><td>0.7761318457776841</td><td>1835.83642578125</td><td>1703.5562271467647</td></tr>\n",
       "<tr><td>37</td><td>241.5638</td><td>15.6789</td><td>0.03999999910593033</td><td>221</td><td>15.324901580810547</td><td>15.492288572579799</td><td>2.614285707473755</td><td>3.5301673465638586</td><td>0.6417912500186441</td><td>0.8666346590203993</td><td>1863.179931640625</td><td>1727.4005776918964</td></tr>\n",
       "<tr><td>23</td><td>227.7485</td><td>6.0388</td><td>0.07900000363588333</td><td>132</td><td>15.364901542663574</td><td>15.521697857073933</td><td>2.671428680419922</td><td>3.4802487094033068</td><td>0.34735874265328925</td><td>0.4525274700083029</td><td>1932.10546875</td><td>1799.6590169377216</td></tr>\n",
       "<tr><td>21</td><td>230.6338</td><td>27.7129</td><td>0.0729999989271164</td><td>144</td><td>15.42490291595459</td><td>15.581670053029487</td><td>2.8000001907348633</td><td>3.664567601605863</td><td>0.391309011005874</td><td>0.5121350745797598</td><td>2021.38427734375</td><td>1879.1873352186892</td></tr>\n",
       "<tr><td>2</td><td>240.5602</td><td>16.1113</td><td>0.035999998450279236</td><td>525</td><td>15.444902420043945</td><td>15.61043080796355</td><td>2.8714284896850586</td><td>3.880159897239745</td><td>0.7795811316295294</td><td>1.0534475724189225</td><td>2041.7840576171875</td><td>1887.7175813096123</td></tr>\n",
       "<tr><td>413</td><td>255.6881</td><td>33.4648</td><td>0.09200000017881393</td><td>174</td><td>15.86490249633789</td><td>16.001098693222428</td><td>3.9000000953674316</td><td>4.968317796273429</td><td>0.44192655863053665</td><td>0.5629824539871574</td><td>2841.404296875</td><td>2615.7190065970285</td></tr>\n",
       "</table></div>"
      ],
      "text/plain": [
       "<Table length=219>\n",
       " Yang    RA      DEC   ...      vcirc_c            vcirc_m      \n",
       "int64 float64  float64 ...      float64            float64      \n",
       "----- -------- ------- ... ------------------ ------------------\n",
       "  374 245.7299 23.8919 ...  822.2749633789062  764.0497213265847\n",
       "  222 242.8492  36.995 ...  822.7521362304688   764.992822466246\n",
       "  394  199.144  7.0911 ...  826.9444580078125  766.6924949865825\n",
       "  310  160.312 33.8973 ...  831.0362548828125  774.7606946857126\n",
       "  371 181.3786 43.1855 ...   833.792724609375  773.6608124290069\n",
       "  295 131.8533 53.8186 ...  832.8416137695312  771.7329432207382\n",
       "  ...      ...     ... ...                ...                ...\n",
       "   26 258.2267 64.0514 ... 1831.5782470703125 1708.4498092257656\n",
       "   47  241.306 16.4602 ...   1835.83642578125 1703.5562271467647\n",
       "   37 241.5638 15.6789 ...  1863.179931640625 1727.4005776918964\n",
       "   23 227.7485  6.0388 ...      1932.10546875 1799.6590169377216\n",
       "   21 230.6338 27.7129 ...   2021.38427734375 1879.1873352186892\n",
       "    2 240.5602 16.1113 ... 2041.7840576171875 1887.7175813096123\n",
       "  413 255.6881 33.4648 ...     2841.404296875 2615.7190065970285"
      ]
     },
     "execution_count": 1238,
     "metadata": {},
     "output_type": "execute_result"
    }
   ],
   "source": [
    "cat[100:]"
   ]
  },
  {
   "cell_type": "markdown",
   "id": "42a7887c",
   "metadata": {},
   "source": [
    "## Validate on TNG\n"
   ]
  },
  {
   "cell_type": "code",
   "execution_count": 641,
   "id": "d1f9a8f8",
   "metadata": {
    "ExecuteTime": {
     "end_time": "2022-10-25T07:44:03.576080Z",
     "start_time": "2022-10-25T07:44:03.571985Z"
    }
   },
   "outputs": [],
   "source": [
    "import sys\n",
    "sys.path.append('/Users/jesteves/Documents/GitHub/galaxyFormation/scripts')\n",
    "from file_loc import FileLocs"
   ]
  },
  {
   "cell_type": "code",
   "execution_count": 58,
   "id": "1e0a3f2c",
   "metadata": {
    "ExecuteTime": {
     "end_time": "2022-10-25T06:18:31.401816Z",
     "start_time": "2022-10-25T06:18:19.698272Z"
    }
   },
   "outputs": [
    {
     "name": "stdout",
     "output_type": "stream",
     "text": [
      "Loading Catalog: /Users/jesteves/Documents/GitHub/galaxyFormation/data/catalogs/SDSS/groupCatalog_Yang_deCarvalho2017.csv\n",
      "Loading Catalog: /Users/jesteves/Documents/GitHub/galaxyFormation/data/catalogs/SDSS/groups_deCarvalho2017_5xR200m_galaxies_johnnyheq_pp.csv\n"
     ]
    }
   ],
   "source": [
    "fl = FileLocs(dataset='sdss', root='/Users/jesteves/Documents/GitHub/galaxyFormation/data/')\n",
    "cat = fl.load_catalogs('cluster/main')\n",
    "gal0 = fl.load_catalogs('galaxy/main')\n",
    "\n",
    "mask  = (gal0['VLOS_MASK']).astype(bool)\n",
    "mask &= gal0['MAG_TH_MASK'].astype(bool)\n",
    "gal = gal0[mask]"
   ]
  },
  {
   "cell_type": "code",
   "execution_count": 850,
   "id": "e3447693",
   "metadata": {
    "ExecuteTime": {
     "end_time": "2022-10-25T08:09:39.955465Z",
     "start_time": "2022-10-25T08:09:39.948609Z"
    }
   },
   "outputs": [],
   "source": []
  },
  {
   "cell_type": "code",
   "execution_count": 872,
   "id": "99cdc043",
   "metadata": {
    "ExecuteTime": {
     "end_time": "2022-10-25T08:11:39.897290Z",
     "start_time": "2022-10-25T08:11:39.877083Z"
    }
   },
   "outputs": [],
   "source": [
    "gid = gal['Yang']\n",
    "smass = gal['mass']\n",
    "rm = gal['Rm']\n",
    "rv = (gal['Rm']*gal['R200m'])\n",
    "ra = gal['ra']\n",
    "dec = gal['dec']\n",
    "gr = gal['mg']-gal['mr']\n",
    "po = gal['p_orbital']\n",
    "\n",
    "orbitall = np.where(gal['orbital']=='False',False, True)\n",
    "interlopers = np.where(gal['interlopers']=='False',False, True)\n",
    "infall = np.where(gal['infall']=='False',False, True)\n",
    "\n",
    "field = (interlopers)"
   ]
  },
  {
   "cell_type": "code",
   "execution_count": 60,
   "id": "c748860c",
   "metadata": {
    "ExecuteTime": {
     "end_time": "2022-10-25T06:18:31.419048Z",
     "start_time": "2022-10-25T06:18:31.413202Z"
    }
   },
   "outputs": [],
   "source": [
    "def compute_background_denstiy(idx):\n",
    "    x = rm[idx]\n",
    "    y = 10**smass[idx]\n",
    "    rb = np.percentile(x,[0,100])\n",
    "    area = np.pi*(np.max(rv[idx])**2 - np.min(rv[idx])**2)\n",
    "    sigmabg = np.log10(np.sum(y)/area)\n",
    "    \n",
    "    sigmabg = np.where(np.isfinite(sigmabg),sigmabg,10.3)\n",
    "    #sigmabg = np.log10(np.sum(10**smass[field]/(area[field])))\n",
    "    print('Stellar Mass Background Density Contamination %.2f [M$_{\\odot}$/Mpc^2]'%(sigmabg))\n",
    "    return sigmabg"
   ]
  },
  {
   "cell_type": "code",
   "execution_count": 1198,
   "id": "58f9e748",
   "metadata": {
    "ExecuteTime": {
     "end_time": "2022-10-25T08:36:32.324987Z",
     "start_time": "2022-10-25T08:36:32.272842Z"
    },
    "scrolled": true
   },
   "outputs": [],
   "source": [
    "keys = [np.where((gid==cid)& (rv <= 5.))[0] for cid in np.array(cat['Yang'])]\n",
    "# keys_bkg = [np.where((gid==cid) & (rm<=4) & (rm>3) & field)[0] for cid in np.array(cat['Yang'])]\n",
    "\n",
    "# sigma_bkg = np.array([compute_background_denstiy(ix) for ix in keys_bkg])\n"
   ]
  },
  {
   "cell_type": "code",
   "execution_count": 1267,
   "id": "24f2137d",
   "metadata": {
    "ExecuteTime": {
     "end_time": "2022-10-25T08:40:54.706809Z",
     "start_time": "2022-10-25T08:40:54.694224Z"
    }
   },
   "outputs": [],
   "source": [
    "# for a given cluster\n",
    "# cid = 26\n",
    "# cid = 12\n",
    "cid = 295\n",
    "# idx = np.where(gid==cid)[0]\n",
    "ra_cls = float(cat['RA'][cat['Yang']==cid])\n",
    "dec_cls = float(cat['DEC'][cat['Yang']==cid])\n",
    "zcls = float(cat['redshift'][cat['Yang']==cid])\n",
    "m200c = float(cat['logM200c'][cat['Yang']==cid])\n",
    "r200c = float(cat['R200c'][cat['Yang']==cid])\n",
    "sbg = float(sigma_bkg[cat['Yang']==cid])\n",
    "\n",
    "idx = keys[int(np.where(cat['Yang']==cid)[0])]"
   ]
  },
  {
   "cell_type": "code",
   "execution_count": 1268,
   "id": "b5bc7a8b",
   "metadata": {
    "ExecuteTime": {
     "end_time": "2022-10-25T08:40:55.393072Z",
     "start_time": "2022-10-25T08:40:55.273425Z"
    }
   },
   "outputs": [
    {
     "data": {
      "text/plain": [
       "(array([8., 7., 2., 1., 2., 4., 2., 1., 3., 5.]),\n",
       " array([0.1706991 , 0.65267907, 1.13465905, 1.61663903, 2.09861901,\n",
       "        2.58059899, 3.06257896, 3.54455894, 4.02653892, 4.5085189 ,\n",
       "        4.99049888]),\n",
       " <BarContainer object of 10 artists>)"
      ]
     },
     "execution_count": 1268,
     "metadata": {},
     "output_type": "execute_result"
    },
    {
     "data": {
      "image/png": "[encoded data removed]",
      "text/plain": [
       "<Figure size 640x480 with 1 Axes>"
      ]
     },
     "metadata": {},
     "output_type": "display_data"
    }
   ],
   "source": [
    "plt.hist(rv[idx])"
   ]
  },
  {
   "cell_type": "markdown",
   "id": "fdf316ae",
   "metadata": {},
   "source": [
    "## Starting Testing"
   ]
  },
  {
   "cell_type": "code",
   "execution_count": 1269,
   "id": "bfa771f7",
   "metadata": {
    "ExecuteTime": {
     "end_time": "2022-10-25T08:40:56.405719Z",
     "start_time": "2022-10-25T08:40:56.393252Z"
    }
   },
   "outputs": [
    {
     "name": "stdout",
     "output_type": "stream",
     "text": [
      "Help on class corcovadoShape in module __main__:\n",
      "\n",
      "class corcovadoShape(builtins.object)\n",
      " |  corcovadoShape(coords=[0, 0], z=0, sigma_bg=0) -> None\n",
      " |  \n",
      " |  This class estimates shape of a given stellar mass cluster distribution\n",
      " |  \n",
      " |  Methods defined here:\n",
      " |  \n",
      " |  __init__(self, coords=[0, 0], z=0, sigma_bg=0) -> None\n",
      " |      __init__ Corcovado Shape Measurements Tools\n",
      " |      \n",
      " |      Estimates the shape of a given stellar mass cluster distribution.\n",
      " |      \n",
      " |      Parameters\n",
      " |      ----------\n",
      " |      coords : list, optional\n",
      " |          ra, dec of the center of the distribution, by default [0,0]\n",
      " |      z : int, optional\n",
      " |          redshift of the cluster, by default 0\n",
      " |      sigma_bg : int, optional\n",
      " |          background density, by default 0\n",
      " |  \n",
      " |  add_mask(self, mask)\n",
      " |  \n",
      " |  display(self, rmax=3, kind='points', save=False, ax=None)\n",
      " |      display point density\n",
      " |      \n",
      " |      Display cutout of the point distribution\n",
      " |      \n",
      " |      Parameters\n",
      " |      ----------\n",
      " |      rmax : int, optional\n",
      " |          max size of the box, by default 3\n",
      " |      kind : str, optional\n",
      " |          display can be only points or a colored kernel distribtuion, by default 'points'\n",
      " |  \n",
      " |  fit(self)\n",
      " |      fit shape distribution\n",
      " |      \n",
      " |      Uses the PCA to find the major and minor axis. \n",
      " |      Converts the results to polar coordinates, eccentricity and position angle.\n",
      " |  \n",
      " |  fit_outliers(self, **kwargs)\n",
      " |      mask_outliers detection algorithm\n",
      " |      \n",
      " |      Finds the outliers galaxies in the field. \n",
      " |      Uses the LocalOutlierFactor function from sklearn.\n",
      " |      For the key word arguments (kwargs) take a look at the documentation \n",
      " |      https://scikit-learn.org/stable/modules/generated/sklearn.neighbors.LocalOutlierFactor.html#sklearn.neighbors.LocalOutlierFactor\n",
      " |  \n",
      " |  load(self, x, y, weights=None)\n",
      " |      load dataset\n",
      " |      \n",
      " |      load point distribution\n",
      " |      \n",
      " |      Parameters\n",
      " |      ----------\n",
      " |      x : array\n",
      " |          x-coordinates\n",
      " |      y : array\n",
      " |          y-coordiantes \n",
      " |      weights : array, optional\n",
      " |          weighted value for the point distribution, by default None\n",
      " |  \n",
      " |  load_sky_coord(self, ra, dec, weights=None, norm_value=0.1)\n",
      " |      load_sky_coord \n",
      " |      \n",
      " |      Converts sky coordinates to physical coords system in Mpc\n",
      " |      \n",
      " |      Parameters\n",
      " |      ----------\n",
      " |      ra : array\n",
      " |          right ascension\n",
      " |      dec : array\n",
      " |          declination\n",
      " |      weights : array, optional\n",
      " |          weighted value for the point distribution, by default None\n",
      " |          \n",
      " |      Returns\n",
      " |      ----------\n",
      " |      dx : array\n",
      " |          x offset from the center\n",
      " |      dy : array\n",
      " |          y offset from the center\n",
      " |  \n",
      " |  make_blobs(self)\n",
      " |  \n",
      " |  weight_xy(self, weights, norm_value=0.1)\n",
      " |      add_weights\n",
      " |      \n",
      " |      Weights xy quantities.\n",
      " |      Repeats xy values n times the weights.\n",
      " |      Solution proposed at stackOverflow: \n",
      " |      https://stackoverflow.com/questions/11442962/python-package-that-supports-weighted-covariance-computation\n",
      " |      \n",
      " |      Parameters\n",
      " |      ----------\n",
      " |      weights : array\n",
      " |          weights values to repeat the xy quantities.\n",
      " |  \n",
      " |  ----------------------------------------------------------------------\n",
      " |  Data descriptors defined here:\n",
      " |  \n",
      " |  __dict__\n",
      " |      dictionary for instance variables (if defined)\n",
      " |  \n",
      " |  __weakref__\n",
      " |      list of weak references to the object (if defined)\n",
      "\n"
     ]
    }
   ],
   "source": [
    "help(corcovadoShape)"
   ]
  },
  {
   "cell_type": "code",
   "execution_count": 1270,
   "id": "dd52e23f",
   "metadata": {
    "ExecuteTime": {
     "end_time": "2022-10-25T08:40:56.718277Z",
     "start_time": "2022-10-25T08:40:56.710931Z"
    }
   },
   "outputs": [],
   "source": [
    "cS = corcovadoShape(coords = [ra_cls,dec_cls], z=zcls, sigma_bg=sbg)"
   ]
  },
  {
   "cell_type": "code",
   "execution_count": 1271,
   "id": "13a05c6a",
   "metadata": {
    "ExecuteTime": {
     "end_time": "2022-10-25T08:40:57.001987Z",
     "start_time": "2022-10-25T08:40:56.987545Z"
    }
   },
   "outputs": [],
   "source": [
    "norm = np.mean(po[idx]*10**smass[idx])\n",
    "cS.load_sky_coord(ra[idx], dec[idx], weights=po[idx]*10**smass[idx], norm_value=int(1e8))"
   ]
  },
  {
   "cell_type": "code",
   "execution_count": 1272,
   "id": "471cde99",
   "metadata": {
    "ExecuteTime": {
     "end_time": "2022-10-25T08:40:57.383631Z",
     "start_time": "2022-10-25T08:40:57.247927Z"
    }
   },
   "outputs": [
    {
     "data": {
      "image/png": "[encoded data removed]",
      "text/plain": [
       "<Figure size 640x480 with 1 Axes>"
      ]
     },
     "metadata": {},
     "output_type": "display_data"
    }
   ],
   "source": [
    "_ = plt.hist(np.log10(po[idx]*10**smass[idx]+1.),bins=31)"
   ]
  },
  {
   "cell_type": "code",
   "execution_count": 1273,
   "id": "33ce917e",
   "metadata": {
    "ExecuteTime": {
     "end_time": "2022-10-25T08:40:57.560797Z",
     "start_time": "2022-10-25T08:40:57.555951Z"
    }
   },
   "outputs": [],
   "source": [
    "cS.add_mask(orbitall[idx])#|infall[idx])"
   ]
  },
  {
   "cell_type": "code",
   "execution_count": 1274,
   "id": "04a5a034",
   "metadata": {
    "ExecuteTime": {
     "end_time": "2022-10-25T08:40:57.957082Z",
     "start_time": "2022-10-25T08:40:57.947491Z"
    }
   },
   "outputs": [
    {
     "name": "stdout",
     "output_type": "stream",
     "text": [
      "contamination fraction: 0.367\n"
     ]
    }
   ],
   "source": [
    "area = (5/0.7)**2\n",
    "fsbg = ((area)*10**sbg/1e9)/np.sum(cS.weights[cS.mask])\n",
    "print(f'contamination fraction: {fsbg:.3f}')"
   ]
  },
  {
   "cell_type": "code",
   "execution_count": 1275,
   "id": "6dc6d837",
   "metadata": {
    "ExecuteTime": {
     "end_time": "2022-10-25T08:40:58.279496Z",
     "start_time": "2022-10-25T08:40:58.264922Z"
    }
   },
   "outputs": [
    {
     "data": {
      "text/plain": [
       "(4747, 2)"
      ]
     },
     "execution_count": 1275,
     "metadata": {},
     "output_type": "execute_result"
    }
   ],
   "source": [
    "fsbg = np.where(fsbg>0.5,0.5,fsbg)\n",
    "X_train = cS.points#np.vstack([cS.dx_w, cS.dy_w]).T\n",
    "X = np.vstack([cS.dx, cS.dy]).T\n",
    "X_train.shape"
   ]
  },
  {
   "cell_type": "code",
   "execution_count": 1279,
   "id": "3b2073e6",
   "metadata": {
    "ExecuteTime": {
     "end_time": "2022-10-25T08:41:11.671329Z",
     "start_time": "2022-10-25T08:41:11.288241Z"
    }
   },
   "outputs": [],
   "source": [
    "from sklearn.ensemble import IsolationForest\n",
    "lof = IsolationForest(contamination=fsbg, random_state=42, bootstrap=True)\n",
    "lof.fit(X_train)\n",
    "cS.outliers = lof.predict(X_train)==-1"
   ]
  },
  {
   "cell_type": "code",
   "execution_count": 1280,
   "id": "a7c86ae2",
   "metadata": {
    "ExecuteTime": {
     "end_time": "2022-10-25T08:41:11.954925Z",
     "start_time": "2022-10-25T08:41:11.673322Z"
    }
   },
   "outputs": [],
   "source": [
    "xx, yy = np.meshgrid(np.linspace(-rmax, rmax, 150), np.linspace(-rmax, rmax, 150))\n",
    "Z = lof.predict(np.c_[xx.ravel(), yy.ravel()])\n",
    "Z = Z.reshape(xx.shape)"
   ]
  },
  {
   "cell_type": "code",
   "execution_count": 1281,
   "id": "1cd9f232",
   "metadata": {
    "ExecuteTime": {
     "end_time": "2022-10-25T08:41:12.321159Z",
     "start_time": "2022-10-25T08:41:12.085696Z"
    }
   },
   "outputs": [
    {
     "data": {
      "text/plain": [
       "(-2.0, 2.0)"
      ]
     },
     "execution_count": 1281,
     "metadata": {},
     "output_type": "execute_result"
    },
    {
     "data": {
      "image/png": "[encoded data removed]",
      "text/plain": [
       "<Figure size 1200x500 with 2 Axes>"
      ]
     },
     "metadata": {},
     "output_type": "display_data"
    }
   ],
   "source": [
    "fig, axs = plt.subplots(1, 2, figsize=(12,5))\n",
    "\n",
    "# axs[0].scatter(cS.dx,cS.dy,s=50,marker='X')\n",
    "axs[0].scatter(cS.points[:,0],cS.points[:,1],s=50,marker='X')\n",
    "axs[0].scatter(cS.points[cS.outliers,0],cS.points[cS.outliers,1],s=50,marker='.')\n",
    "# axs[0].scatter(cS.dx[cS.outliers],cS.dy[cS.outliers],s=50,marker='.')\n",
    "# axs[0].contour(xx, yy, Z, levels=[0], linewidths=2, colors=\"black\")\n",
    "\n",
    "axs[1].scatter(cS.dx,cS.dy,s=50,marker='X')\n",
    "axs[1].scatter(cS.dx[~cS.mask],cS.dy[~cS.mask],s=50,marker='.')\n",
    "axs[1].contour(xx, yy, Z, levels=[0], linewidths=2, colors=\"black\")\n",
    "\n",
    "rmax = 2.\n",
    "axs[0].set_xlim(-rmax, rmax)\n",
    "axs[1].set_xlim(-rmax, rmax)\n",
    "\n",
    "axs[0].set_ylim(-rmax, rmax)\n",
    "axs[1].set_ylim(-rmax, rmax)\n",
    "\n",
    "# fig.asp"
   ]
  },
  {
   "cell_type": "code",
   "execution_count": 1282,
   "id": "a4f87e34",
   "metadata": {
    "ExecuteTime": {
     "end_time": "2022-10-25T08:41:17.893694Z",
     "start_time": "2022-10-25T08:41:17.890231Z"
    }
   },
   "outputs": [],
   "source": [
    "# lof.negative_outlier_factor_"
   ]
  },
  {
   "cell_type": "code",
   "execution_count": 1283,
   "id": "1414ccf0",
   "metadata": {
    "ExecuteTime": {
     "end_time": "2022-10-25T08:41:18.309714Z",
     "start_time": "2022-10-25T08:41:18.298775Z"
    },
    "scrolled": true
   },
   "outputs": [
    {
     "data": {
      "text/plain": [
       "(131.8533, 53.8186)"
      ]
     },
     "execution_count": 1283,
     "metadata": {},
     "output_type": "execute_result"
    }
   ],
   "source": [
    "ra_cls, dec_cls"
   ]
  },
  {
   "cell_type": "code",
   "execution_count": 980,
   "id": "cede66d1",
   "metadata": {
    "ExecuteTime": {
     "end_time": "2022-10-25T08:19:52.039832Z",
     "start_time": "2022-10-25T08:19:52.016215Z"
    }
   },
   "outputs": [],
   "source": [
    "from sklearn.neighbors import LocalOutlierFactor\n",
    "lof = LocalOutlierFactor(novelty=True, contamination=0.5, n_neighbors=20)\n",
    "# lof = LocalOutlierFactor(novelty=True)\n",
    "lof.fit(X_train)\n",
    "cS.outliers = lof.predict(X_train)==-1\n",
    "# cS.outliers = lof.negative_outlier_factor_ <= -0.5"
   ]
  },
  {
   "cell_type": "code",
   "execution_count": 965,
   "id": "e7271fe1",
   "metadata": {
    "ExecuteTime": {
     "end_time": "2022-10-25T08:17:07.905930Z",
     "start_time": "2022-10-25T08:17:07.548361Z"
    }
   },
   "outputs": [],
   "source": [
    "from sklearn.covariance import EllipticEnvelope\n",
    "\n",
    "lof = EllipticEnvelope(contamination=fsbg)\n",
    "lof.fit(X_train)\n",
    "cS.outliers = lof.predict(X_train)==-1"
   ]
  },
  {
   "cell_type": "code",
   "execution_count": 951,
   "id": "acb50173",
   "metadata": {
    "ExecuteTime": {
     "end_time": "2022-10-25T08:15:32.989125Z",
     "start_time": "2022-10-25T08:15:32.981416Z"
    }
   },
   "outputs": [],
   "source": [
    "from sklearn.linear_model import SGDOneClassSVM\n",
    "lof = SGDOneClassSVM(nu=fsbg, shuffle=True, fit_intercept=True,random_state=42,tol=1e-6)\n",
    "lof.fit(X_train)\n",
    "cS.outliers = lof.predict(X_train)==-1"
   ]
  },
  {
   "cell_type": "code",
   "execution_count": 512,
   "id": "60acb9c4",
   "metadata": {
    "ExecuteTime": {
     "end_time": "2022-10-25T07:33:49.865153Z",
     "start_time": "2022-10-25T07:33:49.851563Z"
    }
   },
   "outputs": [
    {
     "data": {
      "text/plain": [
       "array([ -0.98214286,  -1.03703704, -73.36970899,  -0.98214286])"
      ]
     },
     "execution_count": 512,
     "metadata": {},
     "output_type": "execute_result"
    }
   ],
   "source": [
    "import numpy as np\n",
    "from sklearn.neighbors import LocalOutlierFactor\n",
    "X = [[-1.1], [0.2], [101.1], [0.3]]\n",
    "clf = LocalOutlierFactor(n_neighbors=2)\n",
    "clf.fit_predict(X)\n",
    "\n",
    "clf.negative_outlier_factor_"
   ]
  }
 ],
 "metadata": {
  "kernelspec": {
   "display_name": "Python 3 (ipykernel)",
   "language": "python",
   "name": "python3"
  },
  "language_info": {
   "codemirror_mode": {
    "name": "ipython",
    "version": 3
   },
   "file_extension": ".py",
   "mimetype": "text/x-python",
   "name": "python",
   "nbconvert_exporter": "python",
   "pygments_lexer": "ipython3",
   "version": "3.8.8"
  },
  "latex_envs": {
   "LaTeX_envs_menu_present": true,
   "autoclose": true,
   "autocomplete": true,
   "bibliofile": "biblio.bib",
   "cite_by": "apalike",
   "current_citInitial": 1,
   "eqLabelWithNumbers": true,
   "eqNumInitial": 1,
   "hotkeys": {
    "equation": "Ctrl-E",
    "itemize": "Ctrl-I"
   },
   "labels_anchors": false,
   "latex_user_defs": false,
   "report_style_numbering": true,
   "user_envs_cfg": false
  },
  "toc": {
   "base_numbering": 1,
   "nav_menu": {},
   "number_sections": true,
   "sideBar": true,
   "skip_h1_title": false,
   "title_cell": "Table of Contents",
   "title_sidebar": "Contents",
   "toc_cell": false,
   "toc_position": {},
   "toc_section_display": true,
   "toc_window_display": false
  }
 },
 "nbformat": 4,
 "nbformat_minor": 5
}
