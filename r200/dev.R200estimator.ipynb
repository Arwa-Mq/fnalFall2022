{
 "cells": [
  {
   "cell_type": "markdown",
   "id": "fa4f70fe",
   "metadata": {},
   "source": [
    "# Develop the R200 SHMR estimator\n",
    "\n",
    "I will first develop the code then I'll will test on the SDSS data."
   ]
  },
  {
   "cell_type": "code",
   "execution_count": 6,
   "id": "60528d02",
   "metadata": {
    "ExecuteTime": {
     "end_time": "2022-10-19T21:35:43.109175Z",
     "start_time": "2022-10-19T21:35:43.104070Z"
    }
   },
   "outputs": [],
   "source": [
    "from astropy import units as u\n"
   ]
  },
  {
   "cell_type": "code",
   "execution_count": 2,
   "id": "0075f3b4",
   "metadata": {
    "ExecuteTime": {
     "end_time": "2022-10-19T21:32:36.509521Z",
     "start_time": "2022-10-19T21:32:36.500684Z"
    }
   },
   "outputs": [],
   "source": [
    "from astropy.cosmology import FlatLambdaCDM\n",
    "\n",
    "cosmo = FlatLambdaCDM(H0=70, Om0=0.283)\n",
    "Msol = 1.98847e33\n",
    "Mpc2cm = 3.086e+24\n",
    "z=0.1\n",
    "rhoc = cosmo.critical_density(z)"
   ]
  },
  {
   "cell_type": "code",
   "execution_count": 9,
   "id": "216f21c3",
   "metadata": {
    "ExecuteTime": {
     "end_time": "2022-10-19T21:36:07.321144Z",
     "start_time": "2022-10-19T21:36:07.313630Z"
    }
   },
   "outputs": [
    {
     "data": {
      "text/latex": [
       "$1.4873181 \\times 10^{11} \\; \\mathrm{\\frac{M_{\\odot}}{Mpc^{3}}}$"
      ],
      "text/plain": [
       "<Quantity 1.48731815e+11 solMass / Mpc3>"
      ]
     },
     "execution_count": 9,
     "metadata": {},
     "output_type": "execute_result"
    }
   ],
   "source": [
    "rhoc.to(u.Msun/u.Mpc**3)"
   ]
  },
  {
   "cell_type": "code",
   "execution_count": null,
   "id": "e0033567",
   "metadata": {},
   "outputs": [],
   "source": []
  }
 ],
 "metadata": {
  "kernelspec": {
   "display_name": "Python 3 (ipykernel)",
   "language": "python",
   "name": "python3"
  },
  "language_info": {
   "codemirror_mode": {
    "name": "ipython",
    "version": 3
   },
   "file_extension": ".py",
   "mimetype": "text/x-python",
   "name": "python",
   "nbconvert_exporter": "python",
   "pygments_lexer": "ipython3",
   "version": "3.8.8"
  },
  "latex_envs": {
   "LaTeX_envs_menu_present": true,
   "autoclose": true,
   "autocomplete": true,
   "bibliofile": "biblio.bib",
   "cite_by": "apalike",
   "current_citInitial": 1,
   "eqLabelWithNumbers": true,
   "eqNumInitial": 1,
   "hotkeys": {
    "equation": "Ctrl-E",
    "itemize": "Ctrl-I"
   },
   "labels_anchors": false,
   "latex_user_defs": false,
   "report_style_numbering": true,
   "user_envs_cfg": false
  },
  "toc": {
   "base_numbering": 1,
   "nav_menu": {},
   "number_sections": true,
   "sideBar": true,
   "skip_h1_title": false,
   "title_cell": "Table of Contents",
   "title_sidebar": "Contents",
   "toc_cell": false,
   "toc_position": {},
   "toc_section_display": true,
   "toc_window_display": false
  }
 },
 "nbformat": 4,
 "nbformat_minor": 5
}
